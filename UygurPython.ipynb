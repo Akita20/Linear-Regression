{
  "nbformat": 4,
  "nbformat_minor": 0,
  "metadata": {
    "colab": {
      "provenance": [],
      "authorship_tag": "ABX9TyPMJttm73ABvpn5sZnyXWqW",
      "include_colab_link": true
    },
    "kernelspec": {
      "name": "python3",
      "display_name": "Python 3"
    },
    "language_info": {
      "name": "python"
    }
  },
  "cells": [
    {
      "cell_type": "markdown",
      "metadata": {
        "id": "view-in-github",
        "colab_type": "text"
      },
      "source": [
        "<a href=\"https://colab.research.google.com/github/Akita20/Linear-Regression/blob/main/UygurPython.ipynb\" target=\"_parent\"><img src=\"https://colab.research.google.com/assets/colab-badge.svg\" alt=\"Open In Colab\"/></a>"
      ]
    },
    {
      "cell_type": "code",
      "execution_count": null,
      "metadata": {
        "colab": {
          "base_uri": "https://localhost:8080/"
        },
        "id": "kH6GS20qOyNF",
        "outputId": "49a4a463-8b38-41b0-c1e9-2fcb5c4b7190"
      },
      "outputs": [
        {
          "output_type": "stream",
          "name": "stdout",
          "text": [
            "Youngest: 23\n",
            " Oldest: 78\n",
            " Total Age:236\n",
            "Average Age:47.2\n"
          ]
        }
      ],
      "source": [
        "ages=[23,34,45,56,78]\n",
        "youngest= min(ages)\n",
        "oldest= max(ages)\n",
        "total_age= sum(ages)\n",
        "average_age= total_age/len(ages)\n",
        "print(f\"Youngest: {youngest}\\n Oldest: {oldest}\\n Total Age:{total_age}\\nAverage Age:{average_age}\" )"
      ]
    },
    {
      "cell_type": "code",
      "source": [
        "# Working with part of the list\n",
        "fruits= ['apple','banana','running', 'watching','elderberry']\n",
        "selected_fruits= fruits[1:4] # it is first one include but stopping value not included\n",
        "selected_fruits"
      ],
      "metadata": {
        "colab": {
          "base_uri": "https://localhost:8080/"
        },
        "id": "hiOSo4mFPS4g",
        "outputId": "9aa65c12-3dc6-497c-cc66-ce3293136eb8"
      },
      "execution_count": null,
      "outputs": [
        {
          "output_type": "execute_result",
          "data": {
            "text/plain": [
              "['banana', 'running', 'watching']"
            ]
          },
          "metadata": {},
          "execution_count": 3
        }
      ]
    },
    {
      "cell_type": "code",
      "source": [
        "days= ['Monday','Tuesday','Wednesay','Thurthday','Friday','Sat','Sun']\n",
        "weekdays= days[:5]\n",
        "weekdays"
      ],
      "metadata": {
        "colab": {
          "base_uri": "https://localhost:8080/"
        },
        "id": "bxzw6sewQiIU",
        "outputId": "aecd5f35-a85b-431f-a296-be728c480973"
      },
      "execution_count": null,
      "outputs": [
        {
          "output_type": "execute_result",
          "data": {
            "text/plain": [
              "['Monday', 'Tuesday', 'Wednesay', 'Thurthday', 'Friday']"
            ]
          },
          "metadata": {},
          "execution_count": 4
        }
      ]
    },
    {
      "cell_type": "code",
      "source": [
        "weekend= days[5:7]\n",
        "weekend"
      ],
      "metadata": {
        "colab": {
          "base_uri": "https://localhost:8080/"
        },
        "id": "DTwpM4oJQ53Z",
        "outputId": "530b4ce2-bcb2-4f6f-fa05-918c207602d6"
      },
      "execution_count": null,
      "outputs": [
        {
          "output_type": "execute_result",
          "data": {
            "text/plain": [
              "['Sat', 'Sun']"
            ]
          },
          "metadata": {},
          "execution_count": 5
        }
      ]
    },
    {
      "cell_type": "code",
      "source": [
        "weekend2= days[-2:] # if we want to give all the way to end we just dont have provide , give empty\n",
        "weekend2"
      ],
      "metadata": {
        "colab": {
          "base_uri": "https://localhost:8080/"
        },
        "id": "-ar7xRMURJ6i",
        "outputId": "e27ee60d-c6e8-4f57-c9cb-fa4b888da80d"
      },
      "execution_count": null,
      "outputs": [
        {
          "output_type": "execute_result",
          "data": {
            "text/plain": [
              "['Sat', 'Sun']"
            ]
          },
          "metadata": {},
          "execution_count": 7
        }
      ]
    },
    {
      "cell_type": "code",
      "source": [
        "original_list= [1,2,3,4,5]\n",
        "copied_list= original_list[:] # if want to copy not provide starting or stopping\n",
        "print(copied_list)"
      ],
      "metadata": {
        "colab": {
          "base_uri": "https://localhost:8080/"
        },
        "id": "segmSv2gRupt",
        "outputId": "e5b8faaa-810f-4d29-af3d-0160624f901a"
      },
      "execution_count": null,
      "outputs": [
        {
          "output_type": "stream",
          "name": "stdout",
          "text": [
            "[1, 2, 3, 4, 5]\n"
          ]
        }
      ]
    },
    {
      "cell_type": "code",
      "source": [
        "copied_list[3]= 1000\n",
        "copied_list"
      ],
      "metadata": {
        "colab": {
          "base_uri": "https://localhost:8080/"
        },
        "id": "1f90TZL_SQ4r",
        "outputId": "8a7daf59-7911-4b8a-c051-5fce6d2a9653"
      },
      "execution_count": null,
      "outputs": [
        {
          "output_type": "execute_result",
          "data": {
            "text/plain": [
              "[1, 2, 3, 1000, 5]"
            ]
          },
          "metadata": {},
          "execution_count": 9
        }
      ]
    },
    {
      "cell_type": "code",
      "source": [
        "print(original_list)"
      ],
      "metadata": {
        "colab": {
          "base_uri": "https://localhost:8080/"
        },
        "id": "Zl_JV7q7SXES",
        "outputId": "153e97d3-432f-492a-8f7e-15927277f016"
      },
      "execution_count": null,
      "outputs": [
        {
          "output_type": "stream",
          "name": "stdout",
          "text": [
            "[1, 2, 3, 4, 5]\n"
          ]
        }
      ]
    },
    {
      "cell_type": "code",
      "source": [
        "animals = ['dog','cat','fish']\n",
        "copied_names= animals[:]\n",
        "copied_names.append(\"bird\")\n",
        "print(animals)\n",
        "print(copied_names)"
      ],
      "metadata": {
        "colab": {
          "base_uri": "https://localhost:8080/"
        },
        "id": "UsOIwSawSgvb",
        "outputId": "8f91b3cf-3204-48ea-aa9a-fe259c6c6e34"
      },
      "execution_count": null,
      "outputs": [
        {
          "output_type": "stream",
          "name": "stdout",
          "text": [
            "['dog', 'cat', 'fish']\n",
            "['dog', 'cat', 'fish', 'bird']\n"
          ]
        }
      ]
    },
    {
      "cell_type": "code",
      "source": [
        "dimention = (200, 100) # difference between list and tuple is list use[], tuple use ()\n",
        "print(dimention[0])\n",
        "print(dimention[1])"
      ],
      "metadata": {
        "colab": {
          "base_uri": "https://localhost:8080/"
        },
        "id": "vyOGmNb3TSKN",
        "outputId": "41d713e9-fde1-4b55-ac9e-cb03314eb3f8"
      },
      "execution_count": null,
      "outputs": [
        {
          "output_type": "stream",
          "name": "stdout",
          "text": [
            "200\n",
            "100\n"
          ]
        }
      ]
    },
    {
      "cell_type": "code",
      "source": [
        "dimention_list= [200,100]\n",
        "dimention_tuple= (200,100)\n",
        "\n",
        "dimention_list[0]=75\n",
        "dimention_list"
      ],
      "metadata": {
        "colab": {
          "base_uri": "https://localhost:8080/"
        },
        "id": "whLFsUFnTzo0",
        "outputId": "dd2db2d3-fb64-4735-c4e4-b1f73dfec837"
      },
      "execution_count": null,
      "outputs": [
        {
          "output_type": "execute_result",
          "data": {
            "text/plain": [
              "[75, 100]"
            ]
          },
          "metadata": {},
          "execution_count": 15
        }
      ]
    },
    {
      "cell_type": "code",
      "source": [],
      "metadata": {
        "id": "5xL5b7zHVpJ_"
      },
      "execution_count": null,
      "outputs": []
    },
    {
      "cell_type": "code",
      "source": [
        "dimention_tuple[0]= 75 #\n",
        "dimention_tuple"
      ],
      "metadata": {
        "colab": {
          "base_uri": "https://localhost:8080/",
          "height": 162
        },
        "id": "j6ccTpHLUNag",
        "outputId": "10a50e11-6574-4317-9544-cfdfa63f1850"
      },
      "execution_count": null,
      "outputs": [
        {
          "output_type": "error",
          "ename": "TypeError",
          "evalue": "'tuple' object does not support item assignment",
          "traceback": [
            "\u001b[0;31m---------------------------------------------------------------------------\u001b[0m",
            "\u001b[0;31mTypeError\u001b[0m                                 Traceback (most recent call last)",
            "\u001b[0;32m<ipython-input-16-dac9133a4560>\u001b[0m in \u001b[0;36m<cell line: 1>\u001b[0;34m()\u001b[0m\n\u001b[0;32m----> 1\u001b[0;31m \u001b[0mdimention_tuple\u001b[0m\u001b[0;34m[\u001b[0m\u001b[0;36m0\u001b[0m\u001b[0;34m]\u001b[0m\u001b[0;34m=\u001b[0m \u001b[0;36m75\u001b[0m\u001b[0;34m\u001b[0m\u001b[0;34m\u001b[0m\u001b[0m\n\u001b[0m\u001b[1;32m      2\u001b[0m \u001b[0mdimention_tuple\u001b[0m\u001b[0;34m\u001b[0m\u001b[0;34m\u001b[0m\u001b[0m\n",
            "\u001b[0;31mTypeError\u001b[0m: 'tuple' object does not support item assignment"
          ]
        }
      ]
    },
    {
      "cell_type": "code",
      "source": [
        "# Convert the tuple to a list\n",
        "dimention_list = list(dimention_tuple)\n",
        "\n",
        "# Modify the first element\n",
        "dimention_list[0] = 75\n",
        "print(dimention_list)\n",
        "\n"
      ],
      "metadata": {
        "colab": {
          "base_uri": "https://localhost:8080/"
        },
        "id": "x8xWz1-hWI9o",
        "outputId": "a9b727fe-61a2-4fcf-ba67-ae183ab0fcea"
      },
      "execution_count": null,
      "outputs": [
        {
          "output_type": "stream",
          "name": "stdout",
          "text": [
            "[75, 100]\n"
          ]
        }
      ]
    },
    {
      "cell_type": "code",
      "source": [],
      "metadata": {
        "id": "PLhYOk5-01SJ"
      },
      "execution_count": null,
      "outputs": []
    },
    {
      "cell_type": "code",
      "source": [
        "# Convert the list back to a tuple\n",
        "dimention_tuple = tuple(dimention_list)"
      ],
      "metadata": {
        "id": "pV7ISNi-WSv4"
      },
      "execution_count": null,
      "outputs": []
    },
    {
      "cell_type": "code",
      "source": [
        "# Print the modified tuple\n",
        "print(dimention_tuple)"
      ],
      "metadata": {
        "colab": {
          "base_uri": "https://localhost:8080/"
        },
        "id": "y_JTwXQMWT26",
        "outputId": "d420164a-7f46-40c8-acfd-06c093a5495c"
      },
      "execution_count": null,
      "outputs": [
        {
          "output_type": "stream",
          "name": "stdout",
          "text": [
            "(75, 100)\n"
          ]
        }
      ]
    },
    {
      "cell_type": "code",
      "source": [
        "# ** List:** Mutable, we can change its values/elements\n",
        "# ** Tuple:** Immutable, we cannot change its individual values/elements"
      ],
      "metadata": {
        "id": "p7sO2CZAVJba"
      },
      "execution_count": null,
      "outputs": []
    },
    {
      "cell_type": "code",
      "source": [
        "# Class 4: Dictionary- A its core, it is a collection of key_value pairs.\n",
        "# Dictionary is mutable, we can change its elements"
      ],
      "metadata": {
        "id": "ZXjZ4_Fe03Sh"
      },
      "execution_count": null,
      "outputs": []
    },
    {
      "cell_type": "code",
      "source": [
        "# Dictionary always start with {}, key always have to be unique and corresponds to a value\n",
        "wardrobe = {\n",
        "    'red_key':'golden_crown',\n",
        "    'blue_key': 'silver_sword',\n",
        "    'green_key': 'robe of invisibility'\n",
        "}\n",
        "print(wardrobe)"
      ],
      "metadata": {
        "colab": {
          "base_uri": "https://localhost:8080/"
        },
        "id": "T6G1nlCU0-eD",
        "outputId": "c748acf1-5d05-4764-a906-8c223a8117d7"
      },
      "execution_count": null,
      "outputs": [
        {
          "output_type": "stream",
          "name": "stdout",
          "text": [
            "{'red_key': 'golden_crown', 'blue_key': 'silver_sword', 'green_key': 'robe of invisibility'}\n"
          ]
        }
      ]
    },
    {
      "cell_type": "code",
      "source": [
        "print(wardrobe['blue_key'])"
      ],
      "metadata": {
        "colab": {
          "base_uri": "https://localhost:8080/"
        },
        "id": "bF6aW53H6Qge",
        "outputId": "30b5689f-4432-4310-f5f4-fd0a1429604f"
      },
      "execution_count": null,
      "outputs": [
        {
          "output_type": "stream",
          "name": "stdout",
          "text": [
            "silver_sword\n"
          ]
        }
      ]
    },
    {
      "cell_type": "code",
      "source": [
        "student = {\n",
        "    'name': 'Aynur',\n",
        "    'age': 40,\n",
        "    'major': 'Computer science',\n",
        "}\n",
        "print(student)"
      ],
      "metadata": {
        "colab": {
          "base_uri": "https://localhost:8080/"
        },
        "id": "_OhmqA6U6Zp7",
        "outputId": "046d33d5-a1c2-4023-b125-02bf4f7268df"
      },
      "execution_count": null,
      "outputs": [
        {
          "output_type": "stream",
          "name": "stdout",
          "text": [
            "{'name': 'Aynur', 'age': 40, 'major': 'Computer science'}\n"
          ]
        }
      ]
    },
    {
      "cell_type": "code",
      "source": [
        "age_of_student = student['age']\n",
        "print(age_of_student)"
      ],
      "metadata": {
        "colab": {
          "base_uri": "https://localhost:8080/"
        },
        "id": "SJ6H7byU8Y55",
        "outputId": "c34353f2-5112-4fa6-b104-c3af3a86a126"
      },
      "execution_count": null,
      "outputs": [
        {
          "output_type": "stream",
          "name": "stdout",
          "text": [
            "40\n"
          ]
        }
      ]
    },
    {
      "cell_type": "code",
      "source": [
        "students ={\n",
        "    'Aygul':'Pretty',\n",
        "    'Najiya':'Kind',\n",
        "    'Mihray':'honest',\n",
        "    'Ekson':'handsome'\n",
        "}"
      ],
      "metadata": {
        "id": "lGy0VEfd9WYl"
      },
      "execution_count": null,
      "outputs": []
    },
    {
      "cell_type": "code",
      "source": [
        "print(students['Mihray'])"
      ],
      "metadata": {
        "colab": {
          "base_uri": "https://localhost:8080/"
        },
        "id": "FrGkqHGwBkJ1",
        "outputId": "c6bfffa3-23a7-4c7d-e3f9-5de954c8253f"
      },
      "execution_count": null,
      "outputs": [
        {
          "output_type": "stream",
          "name": "stdout",
          "text": [
            "honest\n"
          ]
        }
      ]
    },
    {
      "cell_type": "code",
      "source": [
        "student= {'name':'Ay'}\n",
        "student"
      ],
      "metadata": {
        "colab": {
          "base_uri": "https://localhost:8080/"
        },
        "id": "CIZvfHJsCEcQ",
        "outputId": "8c057f6b-8896-48cc-8939-a91fce572a91"
      },
      "execution_count": null,
      "outputs": [
        {
          "output_type": "execute_result",
          "data": {
            "text/plain": [
              "{'name': 'Ay'}"
            ]
          },
          "metadata": {},
          "execution_count": 12
        }
      ]
    },
    {
      "cell_type": "code",
      "source": [
        "student = {\n",
        "    'name': 'Aynur',\n",
        "    'age': 40,\n",
        "    'major': 'Computer science',\n",
        "}\n",
        "print(student)"
      ],
      "metadata": {
        "colab": {
          "base_uri": "https://localhost:8080/"
        },
        "id": "9B5f1QGdB5Y2",
        "outputId": "349e81bb-0698-4a67-923c-dd3d4b40dc31"
      },
      "execution_count": null,
      "outputs": [
        {
          "output_type": "stream",
          "name": "stdout",
          "text": [
            "{'name': 'Aynur', 'age': 40, 'major': 'Computer science'}\n"
          ]
        }
      ]
    },
    {
      "cell_type": "code",
      "source": [
        "student['major'] ='Data Science'\n",
        "print(student)"
      ],
      "metadata": {
        "colab": {
          "base_uri": "https://localhost:8080/"
        },
        "id": "vYIDK1X9DcdU",
        "outputId": "31117e17-ab04-4d9d-d26a-345f687eeda4"
      },
      "execution_count": null,
      "outputs": [
        {
          "output_type": "stream",
          "name": "stdout",
          "text": [
            "{'name': 'Aynur', 'age': 40, 'major': 'Data Science'}\n"
          ]
        }
      ]
    },
    {
      "cell_type": "code",
      "source": [
        "del student['major']\n",
        "print(student)"
      ],
      "metadata": {
        "colab": {
          "base_uri": "https://localhost:8080/"
        },
        "id": "M1IQrlTKDyep",
        "outputId": "c546d075-ed47-4ce1-f8f4-83e90de82577"
      },
      "execution_count": null,
      "outputs": [
        {
          "output_type": "stream",
          "name": "stdout",
          "text": [
            "{'name': 'Aynur', 'age': 40}\n"
          ]
        }
      ]
    },
    {
      "cell_type": "code",
      "source": [
        "favorite_language = {\n",
        "    'aysajan':'python',\n",
        "    'najiya':'c##',\n",
        "    'medina':'sql',\n",
        "    'hairigul':'html'\n",
        "}"
      ],
      "metadata": {
        "id": "1PyN7aw8FAYE"
      },
      "execution_count": null,
      "outputs": []
    },
    {
      "cell_type": "code",
      "source": [
        "language = favorite_language['medina'].title()\n",
        "print(f\"Medina's favorite language is {language}\")"
      ],
      "metadata": {
        "colab": {
          "base_uri": "https://localhost:8080/"
        },
        "id": "UcAmOhuaGaDT",
        "outputId": "38d9ec78-ebdd-4f86-c39f-0e9cad57068c"
      },
      "execution_count": null,
      "outputs": [
        {
          "output_type": "stream",
          "name": "stdout",
          "text": [
            "Medina's favorite language is Sql\n"
          ]
        }
      ]
    },
    {
      "cell_type": "code",
      "source": [
        "student = {\n",
        "    'name': 'Aynur',\n",
        "    'age': 40,\n",
        "    'major': 'Computer science',\n",
        "}\n",
        "print(student)"
      ],
      "metadata": {
        "colab": {
          "base_uri": "https://localhost:8080/"
        },
        "id": "3bxhKanJHFxJ",
        "outputId": "266360f3-deae-4970-d94f-deaddb6e639d"
      },
      "execution_count": null,
      "outputs": [
        {
          "output_type": "stream",
          "name": "stdout",
          "text": [
            "{'name': 'Aynur', 'age': 40, 'major': 'Computer science'}\n"
          ]
        }
      ]
    },
    {
      "cell_type": "code",
      "source": [
        "student_gpa= student.get('GPA',\"No GPA value is assigned\")"
      ],
      "metadata": {
        "id": "09fLQ4AiHiEr"
      },
      "execution_count": null,
      "outputs": []
    },
    {
      "cell_type": "code",
      "source": [
        "print(student_gpa)"
      ],
      "metadata": {
        "colab": {
          "base_uri": "https://localhost:8080/"
        },
        "id": "P2wMMJ1ZHKHA",
        "outputId": "0b7a6b8d-a497-4052-c8fc-41b45336c680"
      },
      "execution_count": null,
      "outputs": [
        {
          "output_type": "stream",
          "name": "stdout",
          "text": [
            "No GPA value is assigned\n"
          ]
        }
      ]
    },
    {
      "cell_type": "code",
      "source": [
        "store_information = {\n",
        "    'first_name': 'Jamila',\n",
        "    'last_name':'Osman',\n",
        "    'age':18,\n",
        "    'city':'Hotan'\n",
        "}\n",
        "print(store_information)"
      ],
      "metadata": {
        "colab": {
          "base_uri": "https://localhost:8080/"
        },
        "id": "GqTJ8NDbISas",
        "outputId": "6fce44fb-cc58-4a09-8eac-47ba837eb50c"
      },
      "execution_count": null,
      "outputs": [
        {
          "output_type": "stream",
          "name": "stdout",
          "text": [
            "{'first_name': 'Jamila', 'last_name': 'Osman', 'age': 18, 'city': 'Hotan'}\n"
          ]
        }
      ]
    },
    {
      "cell_type": "code",
      "source": [
        "print(store_information)"
      ],
      "metadata": {
        "colab": {
          "base_uri": "https://localhost:8080/"
        },
        "id": "IrxVaDXSI4C-",
        "outputId": "d0124075-7bb5-4d58-c15e-5aeb0209f02d"
      },
      "execution_count": null,
      "outputs": [
        {
          "output_type": "stream",
          "name": "stdout",
          "text": [
            "{'first_name': 'Jamila', 'last_name': 'Osman', 'age': 18, 'city': 'Hotan'}\n"
          ]
        }
      ]
    },
    {
      "cell_type": "code",
      "source": [],
      "metadata": {
        "id": "1vv4hf8qJoKH"
      },
      "execution_count": null,
      "outputs": []
    },
    {
      "cell_type": "markdown",
      "source": [
        "Looping Through a Dictionary\n"
      ],
      "metadata": {
        "id": "jbLLbwTpJ0hd"
      }
    },
    {
      "cell_type": "code",
      "source": [
        "user_0 ={\n",
        "    'user_name': 'aeziz',\n",
        "    'first_name': 'aysajan',\n",
        "    'last_name': 'eziz'\n",
        "\n",
        "}"
      ],
      "metadata": {
        "id": "zmA5aBtDJ7qV"
      },
      "execution_count": null,
      "outputs": []
    },
    {
      "cell_type": "code",
      "source": [
        "print(user_0)"
      ],
      "metadata": {
        "colab": {
          "base_uri": "https://localhost:8080/"
        },
        "id": "FCsADEilKhPb",
        "outputId": "d75e29ff-d4dc-42de-ea14-769681f00c28"
      },
      "execution_count": null,
      "outputs": [
        {
          "output_type": "stream",
          "name": "stdout",
          "text": [
            "{'user_name': 'aeziz', 'first_name': 'aysajan', 'last_name': 'eziz'}\n"
          ]
        }
      ]
    },
    {
      "cell_type": "code",
      "source": [
        "for key, value in user_0.items():\n",
        "    print(f\"\\nKey: {key}\")\n",
        "    print(f\"Value: {value}\")"
      ],
      "metadata": {
        "colab": {
          "base_uri": "https://localhost:8080/"
        },
        "id": "68utYzm8Kmw6",
        "outputId": "a44bc5a0-d4e8-4ee2-95fe-6efd60ddbd4c"
      },
      "execution_count": null,
      "outputs": [
        {
          "output_type": "stream",
          "name": "stdout",
          "text": [
            "\n",
            "Key: user_name\n",
            "Value: aeziz\n",
            "\n",
            "Key: first_name\n",
            "Value: aysajan\n",
            "\n",
            "Key: last_name\n",
            "Value: eziz\n"
          ]
        }
      ]
    },
    {
      "cell_type": "code",
      "source": [
        "for name in favorite_language.keys():\n",
        "  print(name.title())"
      ],
      "metadata": {
        "colab": {
          "base_uri": "https://localhost:8080/"
        },
        "id": "mj97NE7QNC9A",
        "outputId": "c1156100-a304-4fb9-e35f-7ae7aef67fa3"
      },
      "execution_count": null,
      "outputs": [
        {
          "output_type": "stream",
          "name": "stdout",
          "text": [
            "Aysajan\n",
            "Najiya\n",
            "Medina\n",
            "Hairigul\n"
          ]
        }
      ]
    },
    {
      "cell_type": "code",
      "source": [
        "for language in favorite_language.values():\n",
        "    print(language.upper())"
      ],
      "metadata": {
        "colab": {
          "base_uri": "https://localhost:8080/"
        },
        "id": "EwunPQQ5NQCL",
        "outputId": "d344e9dd-e62f-4d3f-c462-933a6b33e798"
      },
      "execution_count": null,
      "outputs": [
        {
          "output_type": "stream",
          "name": "stdout",
          "text": [
            "PYTHON\n",
            "C##\n",
            "SQL\n",
            "HTML\n"
          ]
        }
      ]
    },
    {
      "cell_type": "code",
      "source": [
        "# Sets don't have an order, it is not accepting duplicate\n",
        "fruits = {'apple','banana','apple','cherry','banana'}\n",
        "print(fruits)"
      ],
      "metadata": {
        "colab": {
          "base_uri": "https://localhost:8080/"
        },
        "id": "mqeZmAG0N5_b",
        "outputId": "528bd9f0-575f-44a3-ad22-3eceaa216358"
      },
      "execution_count": null,
      "outputs": [
        {
          "output_type": "stream",
          "name": "stdout",
          "text": [
            "{'apple', 'cherry', 'banana'}\n"
          ]
        }
      ]
    },
    {
      "cell_type": "code",
      "source": [
        "# Python Dictionary\n"
      ],
      "metadata": {
        "id": "LsXunplwoJAm"
      },
      "execution_count": null,
      "outputs": []
    },
    {
      "cell_type": "markdown",
      "source": [
        "**Nesting**"
      ],
      "metadata": {
        "id": "Y6phhrOzoNIc"
      }
    },
    {
      "cell_type": "code",
      "source": [
        "students = []\n",
        "# First Student\n",
        "student_1= {\n",
        "    'name': 'Azat',\n",
        "    'age':21\n",
        "}\n",
        "students.append(student_1)\n",
        "print(students)\n",
        "# Second Student\n",
        "student_2= {\n",
        "    'name':'Guli',\n",
        "    'age': 18\n",
        "}\n",
        "students.append(student_2)\n",
        "print(students)\n"
      ],
      "metadata": {
        "colab": {
          "base_uri": "https://localhost:8080/"
        },
        "id": "LfpAaQ0ZoSJr",
        "outputId": "cb5af136-e29a-4b56-e265-11437c104e89"
      },
      "execution_count": null,
      "outputs": [
        {
          "output_type": "stream",
          "name": "stdout",
          "text": [
            "[{'name': 'Azat', 'age': 21}]\n",
            "[{'name': 'Azat', 'age': 21}, {'name': 'Guli', 'age': 18}]\n"
          ]
        }
      ]
    },
    {
      "cell_type": "code",
      "source": [
        "for student in students:\n",
        "  print(student)"
      ],
      "metadata": {
        "colab": {
          "base_uri": "https://localhost:8080/"
        },
        "id": "N7g4Qd-Gpp9f",
        "outputId": "99a8f6eb-9e00-4e27-967e-6c10943c1659"
      },
      "execution_count": null,
      "outputs": [
        {
          "output_type": "stream",
          "name": "stdout",
          "text": [
            "{'name': 'Azat', 'age': 21}\n",
            "{'name': 'Guli', 'age': 18}\n"
          ]
        }
      ]
    },
    {
      "cell_type": "code",
      "source": [
        "pizza= {\n",
        "    'crust':'thick',\n",
        "    'toppings':['mashwoom','cheese','pinaple','fruit']\n",
        "}\n",
        "# pizza_toppings = pizza['toppings']\n",
        "for topping in pizza['toppings']:\n",
        "  print(topping)"
      ],
      "metadata": {
        "colab": {
          "base_uri": "https://localhost:8080/"
        },
        "id": "49cydr7ys8R1",
        "outputId": "54f34f1e-6f7c-49f3-c8f7-7b60e3b8236f"
      },
      "execution_count": null,
      "outputs": [
        {
          "output_type": "stream",
          "name": "stdout",
          "text": [
            "mashwoom\n",
            "cheese\n",
            "pinaple\n",
            "fruit\n"
          ]
        }
      ]
    },
    {
      "cell_type": "code",
      "source": [
        "pizza['toppings']"
      ],
      "metadata": {
        "colab": {
          "base_uri": "https://localhost:8080/"
        },
        "id": "WlBvhjprt-yf",
        "outputId": "875bd6c8-ce1e-42fe-b5f0-e87646fa6e90"
      },
      "execution_count": null,
      "outputs": [
        {
          "output_type": "execute_result",
          "data": {
            "text/plain": [
              "['mashwoom', 'cheese', 'pinaple', 'fruit']"
            ]
          },
          "metadata": {},
          "execution_count": 8
        }
      ]
    },
    {
      "cell_type": "code",
      "source": [
        "my_family= {\n",
        "    'child_1': {\n",
        "        'name':'Aynur',\n",
        "        'birth_year': 2004,\n",
        "        'gender': 'female',\n",
        "    },\n",
        "    'child_2': {\n",
        "        'name':'Maynur',\n",
        "        'birth_year': 2005,\n",
        "        'gender': 'female',\n",
        "    },\n",
        "    'child_3': {\n",
        "        'name':'Gulnur',\n",
        "        'birth_year': 2006,\n",
        "        'gender': 'female',\n",
        "    }\n",
        "\n",
        "}\n",
        "my_family"
      ],
      "metadata": {
        "colab": {
          "base_uri": "https://localhost:8080/"
        },
        "id": "4JCwk4-vudfG",
        "outputId": "3d161449-456e-4e14-ca7d-04ab728de0a9"
      },
      "execution_count": null,
      "outputs": [
        {
          "output_type": "execute_result",
          "data": {
            "text/plain": [
              "{'child_1': {'name': 'Aynur', 'birth_year': 2004, 'gender': 'female'},\n",
              " 'child_2': {'name': 'Maynur', 'birth_year': 2005, 'gender': 'female'},\n",
              " 'child_3': {'name': 'Gulnur', 'birth_year': 2006, 'gender': 'female'}}"
            ]
          },
          "metadata": {},
          "execution_count": 10
        }
      ]
    },
    {
      "cell_type": "code",
      "source": [
        "for child, child_info in my_family.items():\n",
        "    print(f\"\\nInformation of {child}: \")\n",
        "    name = child_info['name'] # first iteration: Aynur\n",
        "    birth_year = child_info['birth_year']\n",
        "    gender = child_info['gender']\n",
        "\n",
        "    print(f\"\\tName: {name}\")\n",
        "    print(f\"\\tYear of Birth: {birth_year}\")\n",
        "    print(f\"\\tGender: {gender}\")"
      ],
      "metadata": {
        "colab": {
          "base_uri": "https://localhost:8080/"
        },
        "id": "obR_CYcUxFsK",
        "outputId": "2413da2b-0be5-48a2-d4e5-f4a2bd7d847d"
      },
      "execution_count": null,
      "outputs": [
        {
          "output_type": "stream",
          "name": "stdout",
          "text": [
            "\n",
            "Information of child_1: \n",
            "\tName: Aynur\n",
            "\tYear of Birth: 2004\n",
            "\tGender: female\n",
            "\n",
            "Information of child_2: \n",
            "\tName: Maynur\n",
            "\tYear of Birth: 2005\n",
            "\tGender: female\n",
            "\n",
            "Information of child_3: \n",
            "\tName: Gulnur\n",
            "\tYear of Birth: 2006\n",
            "\tGender: female\n"
          ]
        }
      ]
    },
    {
      "cell_type": "code",
      "source": [
        "favorite_language = {\n",
        "    'aysajan': ['python','java','r'],\n",
        "    'najiya':['c++','java','r'],\n",
        "    'medina':['ruby','java','go'],\n",
        "    'hairigul':['Sql','java','hascall']\n",
        "}\n",
        "\n",
        "for name, languages in favorite_language.items():\n",
        "    print(f\"\\n{name.title()}'s favarite languages are: \")\n",
        "    for language in languages:\n",
        "      print(f\"{language.title()}\")"
      ],
      "metadata": {
        "colab": {
          "base_uri": "https://localhost:8080/"
        },
        "id": "V3chKrW714ZU",
        "outputId": "39827a99-de25-47a2-e115-bc9cbfce88bf"
      },
      "execution_count": null,
      "outputs": [
        {
          "output_type": "stream",
          "name": "stdout",
          "text": [
            "\n",
            "Aysajan's favarite languages are: \n",
            "Python\n",
            "Java\n",
            "R\n",
            "\n",
            "Najiya's favarite languages are: \n",
            "C++\n",
            "Java\n",
            "R\n",
            "\n",
            "Medina's favarite languages are: \n",
            "Ruby\n",
            "Java\n",
            "Go\n",
            "\n",
            "Hairigul's favarite languages are: \n",
            "Sql\n",
            "Java\n",
            "Hascall\n"
          ]
        }
      ]
    },
    {
      "cell_type": "code",
      "source": [
        "# Create a list named 'cars\n",
        "cars = ['audi','bmw','subaru','toyota']\n",
        "for car in cars:\n",
        "    if car == 'bmw':\n",
        "      print(car.upper())\n",
        "    else:\n",
        "      print(car.title())"
      ],
      "metadata": {
        "colab": {
          "base_uri": "https://localhost:8080/"
        },
        "id": "E2jqR_lX55dE",
        "outputId": "e6778925-bd81-4f44-f514-9105c574b9bc"
      },
      "execution_count": null,
      "outputs": [
        {
          "output_type": "stream",
          "name": "stdout",
          "text": [
            "Audi\n",
            "BMW\n",
            "Subaru\n",
            "Toyota\n"
          ]
        }
      ]
    },
    {
      "cell_type": "code",
      "source": [
        "x = int(input(\"what's x? \"))\n",
        "y = int(input(\"what's y? \"))\n",
        "\n",
        "if x < y:\n",
        "  print(\"x is less than y.\")\n",
        "if x > y:\n",
        "  print(\"x is greater than y.\")\n",
        "if x == y:\n",
        "  print(\"x is equal to y.\")\n"
      ],
      "metadata": {
        "colab": {
          "base_uri": "https://localhost:8080/"
        },
        "id": "KMdLec0t9tsf",
        "outputId": "e421d5fe-9096-4cdb-cff3-22b6254f6472"
      },
      "execution_count": null,
      "outputs": [
        {
          "output_type": "stream",
          "name": "stdout",
          "text": [
            "what's x? 3\n",
            "what's y? 4\n",
            "x is less than y.\n"
          ]
        }
      ]
    },
    {
      "cell_type": "code",
      "source": [
        "x = int(input(\"what's x? \"))\n",
        "y = int(input(\"what's y? \"))\n",
        "\n",
        "if x < y:\n",
        "  print(\"x is less than y.\")\n",
        "elif x > y:\n",
        "  print(\"x is greater than y.\")\n",
        "else:\n",
        "  print(\"x is equal to y.\")"
      ],
      "metadata": {
        "colab": {
          "base_uri": "https://localhost:8080/"
        },
        "id": "l6BRrtGICPpz",
        "outputId": "146ed736-7eae-4360-9f31-5886a32f1da9"
      },
      "execution_count": null,
      "outputs": [
        {
          "output_type": "stream",
          "name": "stdout",
          "text": [
            "what's x? 5\n",
            "what's y? 3\n",
            "x is greater than y.\n"
          ]
        }
      ]
    },
    {
      "cell_type": "code",
      "source": [
        "x = int(input(\"what's x? \"))\n",
        "y = int(input(\"what's y? \"))\n",
        "\n",
        "if x != y:\n",
        "  print(\"x is not equal to y.\")\n",
        "else:\n",
        "  print(\"x is equal to y.\")"
      ],
      "metadata": {
        "colab": {
          "base_uri": "https://localhost:8080/"
        },
        "id": "22NoQv9cFbQC",
        "outputId": "e9f7b120-56a6-4046-c1a5-aedfae7fab90"
      },
      "execution_count": null,
      "outputs": [
        {
          "output_type": "stream",
          "name": "stdout",
          "text": [
            "what's x? 4\n",
            "what's y? 5\n",
            "x is not equal to y.\n"
          ]
        }
      ]
    },
    {
      "cell_type": "code",
      "source": [
        "x = int(input(\"what's x? \"))\n",
        "y = int(input(\"what's y? \"))\n",
        "\n",
        "if x> y or x <y:\n",
        "  print(\"x is not equal to y.\")"
      ],
      "metadata": {
        "colab": {
          "base_uri": "https://localhost:8080/"
        },
        "id": "K0Ggk-PEFekh",
        "outputId": "264b6151-3228-409d-e035-406033b71d71"
      },
      "execution_count": null,
      "outputs": [
        {
          "output_type": "stream",
          "name": "stdout",
          "text": [
            "what's x? 5\n",
            "what's y? 8\n",
            "x is not equal to y.\n"
          ]
        }
      ]
    },
    {
      "cell_type": "code",
      "source": [
        "x = int(input(\"what's x? \"))\n",
        "y = int(input(\"what's y? \"))\n",
        "\n",
        "if x == y:\n",
        "  print(\"x is equal to y.\")\n",
        "else:\n",
        "  print(\"x is not equal to y.\")"
      ],
      "metadata": {
        "colab": {
          "base_uri": "https://localhost:8080/"
        },
        "id": "_UGjlzk3G4zf",
        "outputId": "38afb009-acaa-47a7-bfa9-b5b4097e4ae8"
      },
      "execution_count": null,
      "outputs": [
        {
          "output_type": "stream",
          "name": "stdout",
          "text": [
            "what's x? 5\n",
            "what's y? 6\n",
            "x is not equal to y.\n"
          ]
        }
      ]
    },
    {
      "cell_type": "code",
      "source": [
        "score = int(input(\"please enter your score: \"))\n",
        "\n",
        "if score >= 90 and score <=100:\n",
        "  print('Grade: A')\n",
        "elif score >=80 and score < 90:\n",
        "  print('Grade: B')\n",
        "elif score >=70 and score < 80:\n",
        "  print('Grade: C')\n",
        "elif score >=60 and score < 70:\n",
        "  print('Grade: D')\n",
        "else:\n",
        "  print('Grade: F')"
      ],
      "metadata": {
        "colab": {
          "base_uri": "https://localhost:8080/"
        },
        "id": "I711Rz_oHLkQ",
        "outputId": "69d681cf-372d-4e46-ef93-abe04e3981ab"
      },
      "execution_count": null,
      "outputs": [
        {
          "output_type": "stream",
          "name": "stdout",
          "text": [
            "please enter your score: 78\n",
            "Grade: C\n"
          ]
        }
      ]
    },
    {
      "cell_type": "code",
      "source": [
        "score = int(input(\"please enter your score: \"))\n",
        "\n",
        "if score >= 90 and score <=100:\n",
        "  print('Grade: A')\n",
        "elif score >=80 and score < 90:\n",
        "  print('Grade: B')\n",
        "elif score >=70 and score < 80:\n",
        "  print('Grade: C')\n",
        "elif score >=60 and score < 70:\n",
        "  print('Grade: D')\n",
        "else:\n",
        "  print('Grade: F')"
      ],
      "metadata": {
        "colab": {
          "base_uri": "https://localhost:8080/"
        },
        "id": "GNR9ebmtIC_h",
        "outputId": "d39dab97-996a-42d9-80f3-560f7f94d861"
      },
      "execution_count": null,
      "outputs": [
        {
          "output_type": "stream",
          "name": "stdout",
          "text": [
            "please enter your score: 97\n",
            "Grade: A\n"
          ]
        }
      ]
    },
    {
      "cell_type": "code",
      "source": [
        "score = int(input(\"please enter your score: \"))\n",
        "\n",
        "if  90 >= score <=100:\n",
        "  print('Grade: A')\n",
        "elif 80 >= score <=90:\n",
        "  print('Grade: B')\n",
        "elif 70 >= score <=80:\n",
        "  print('Grade: C')\n",
        "elif 60 >= score <=70:\n",
        "  print('Grade: D')\n",
        "else:\n",
        "  print('Grade: F')"
      ],
      "metadata": {
        "id": "UvriYg8-IUFc"
      },
      "execution_count": null,
      "outputs": []
    },
    {
      "cell_type": "code",
      "source": [
        "score = int(input(\"please enter your score: \"))\n",
        "\n",
        "if score >= 90:\n",
        "  print('Grade: A')\n",
        "elif score >=80:\n",
        "  print('Grade: B')\n",
        "elif score >=70:\n",
        "  print('Grade: C')\n",
        "elif score >=60:\n",
        "  print('Grade: D')\n",
        "else:\n",
        "  print('Grade: F')"
      ],
      "metadata": {
        "colab": {
          "base_uri": "https://localhost:8080/"
        },
        "id": "jsRE-SYYI3XD",
        "outputId": "2edbbe9b-edd6-42b3-e7d0-1edb3fb947e9"
      },
      "execution_count": null,
      "outputs": [
        {
          "output_type": "stream",
          "name": "stdout",
          "text": [
            "please enter your score: 98\n",
            "Grade: A\n"
          ]
        }
      ]
    },
    {
      "cell_type": "code",
      "source": [
        "x = int(input('What is x?'))\n",
        "print(x %2)\n",
        "\n",
        "if x % 2 ==0:\n",
        "  print('Even')\n",
        "else:\n",
        "  print(\"Odd\")"
      ],
      "metadata": {
        "colab": {
          "base_uri": "https://localhost:8080/"
        },
        "id": "qKZIWl9NMd0I",
        "outputId": "7e35adb9-989c-4dc2-8f48-72828383e12d"
      },
      "execution_count": null,
      "outputs": [
        {
          "output_type": "stream",
          "name": "stdout",
          "text": [
            "What is x?6\n",
            "0\n",
            "Even\n"
          ]
        }
      ]
    },
    {
      "cell_type": "code",
      "source": [],
      "metadata": {
        "id": "gCU0bJZdWzKJ"
      },
      "execution_count": null,
      "outputs": []
    },
    {
      "cell_type": "code",
      "source": [],
      "metadata": {
        "id": "b-xgX-CJW1YU"
      },
      "execution_count": null,
      "outputs": []
    },
    {
      "cell_type": "markdown",
      "source": [
        "**Match\n",
        "\n",
        "\n",
        "**"
      ],
      "metadata": {
        "id": "B5T0GJDhW0Hy"
      }
    },
    {
      "cell_type": "code",
      "source": [
        "name = input(\"what is your name? \")\n",
        "if name == 'harry':\n",
        "  print(\"gryffindor\")\n",
        "elif name == 'hermoine':\n",
        "  print(\"gryffindor\")\n",
        "elif name == 'hermoine':\n",
        "  print(\"gryffindor\")\n",
        "else name == 'draco':\n",
        "  print(\"sytherin\")"
      ],
      "metadata": {
        "id": "KwlCt4teW7WA"
      },
      "execution_count": null,
      "outputs": []
    },
    {
      "cell_type": "code",
      "source": [
        "name = input('what is your name? ')\n",
        "\n",
        "match name:\n",
        "  case 'harry':\n",
        "    print('Gryfindor')\n",
        "  case 'hermoine':\n",
        "    print(\"Gryfindor\")\n",
        "  case 'ron':\n",
        "    print('Gryfindor')\n",
        "  case 'draco':\n",
        "    print('Slytherin')\n",
        "  case _:\n",
        "    print('Who? Nobody!')\n"
      ],
      "metadata": {
        "colab": {
          "base_uri": "https://localhost:8080/"
        },
        "id": "dBBFyVlkZSHj",
        "outputId": "66aea9af-4c60-47ea-b01e-4f907a26640b"
      },
      "execution_count": null,
      "outputs": [
        {
          "output_type": "stream",
          "name": "stdout",
          "text": [
            "what is your name? Jamila\n",
            "Who? Nobody!\n"
          ]
        }
      ]
    },
    {
      "cell_type": "code",
      "source": [
        "name = input('What is yoyr name? ')\n",
        "\n",
        "match name:\n",
        "  case 'harry' | 'heremony' | 'ron':\n",
        "    print('Gryffindor')\n",
        "  case 'draco':\n",
        "    print('Slytherin')\n",
        "  case _:\n",
        "    print('Who? Nobody!')"
      ],
      "metadata": {
        "colab": {
          "base_uri": "https://localhost:8080/"
        },
        "id": "4LD1HoVkY3aB",
        "outputId": "3a1e310c-809d-48c9-a276-f751772f0612"
      },
      "execution_count": null,
      "outputs": [
        {
          "output_type": "stream",
          "name": "stdout",
          "text": [
            "What is yoyr name? ron\n",
            "Gryffindor\n"
          ]
        }
      ]
    },
    {
      "cell_type": "code",
      "source": [
        "# In\n",
        "topping_1 = input(\"first toppings: \")\n",
        "topping_2 = input(\"second toppings: \")\n",
        "topping_3 = input(\"third toppings: \")\n",
        "\n",
        "requested_toppings = [topping_1,topping_2,topping_3]\n",
        "\n",
        "\"mushrooms\" in requested_toppings\n"
      ],
      "metadata": {
        "colab": {
          "base_uri": "https://localhost:8080/"
        },
        "id": "nVoyXVJ8cOBu",
        "outputId": "2dd371e5-db30-499b-aba5-697151f6d4fc"
      },
      "execution_count": null,
      "outputs": [
        {
          "name": "stdout",
          "output_type": "stream",
          "text": [
            "first toppings: onion\n",
            "second toppings: spinach\n",
            "third toppings: pine apple\n"
          ]
        },
        {
          "output_type": "execute_result",
          "data": {
            "text/plain": [
              "False"
            ]
          },
          "metadata": {},
          "execution_count": 27
        }
      ]
    },
    {
      "cell_type": "code",
      "source": [
        "topping_1 = input(\"first toppings: \")\n",
        "topping_2 = input(\"second toppings: \")\n",
        "topping_3 = input(\"third toppings: \")\n",
        "\n",
        "requested_toppings = [topping_1,topping_2,topping_3]\n",
        "\n",
        "\"mushrooms\" in requested_toppings"
      ],
      "metadata": {
        "colab": {
          "base_uri": "https://localhost:8080/"
        },
        "id": "KotcHrgafCRD",
        "outputId": "83c78214-b7dd-46ff-95cb-8a4801fb36eb"
      },
      "execution_count": null,
      "outputs": [
        {
          "name": "stdout",
          "output_type": "stream",
          "text": [
            "first toppings: mushrooms\n",
            "second toppings: onion\n",
            "third toppings: apple\n"
          ]
        },
        {
          "output_type": "execute_result",
          "data": {
            "text/plain": [
              "True"
            ]
          },
          "metadata": {},
          "execution_count": 31
        }
      ]
    },
    {
      "cell_type": "markdown",
      "source": [
        "**Loops**"
      ],
      "metadata": {
        "id": "B7Tc9NJ9gPuZ"
      }
    },
    {
      "cell_type": "markdown",
      "source": [
        "The for loop takes a collection of items and executed a block of code once for each\n"
      ],
      "metadata": {
        "id": "qGDPbcb7g63Y"
      }
    },
    {
      "cell_type": "code",
      "source": [
        "print('meow')\n",
        "print('meow')\n",
        "print('meow')"
      ],
      "metadata": {
        "colab": {
          "base_uri": "https://localhost:8080/"
        },
        "id": "qFat5XETg8gq",
        "outputId": "a776d55b-fa9b-49d7-8b6d-c258292a77c7"
      },
      "execution_count": null,
      "outputs": [
        {
          "output_type": "stream",
          "name": "stdout",
          "text": [
            "meow\n",
            "meow\n",
            "meow\n"
          ]
        }
      ]
    },
    {
      "cell_type": "code",
      "source": [
        "i = 3\n",
        "# iteration 0: i = 3, 3 !=0(True), after line 5, i= 2, print('meow)\n",
        "# iteration 1: i = 2, 2 !=0(True), after line 5, i= 1, print('meow)\n",
        "# iteration 2: i = 1, 1 !=0(True), after line 5, i= 0, print('meow)\n",
        "# iteration 3: i = 0, 0 !=0(False)\n",
        "while i !=0:\n",
        "  # i = i-1\n",
        "  print('meow')\n",
        "  i = i-1"
      ],
      "metadata": {
        "colab": {
          "base_uri": "https://localhost:8080/"
        },
        "id": "97FX6a6qjUp0",
        "outputId": "1817955f-338e-4c12-c2ff-ebf7e466b8df"
      },
      "execution_count": null,
      "outputs": [
        {
          "output_type": "stream",
          "name": "stdout",
          "text": [
            "meow\n",
            "meow\n",
            "meow\n"
          ]
        }
      ]
    },
    {
      "cell_type": "code",
      "source": [
        "# range(3): 0,1,2\n",
        "for i in range(3):\n",
        "  print(\"meow\")"
      ],
      "metadata": {
        "colab": {
          "base_uri": "https://localhost:8080/"
        },
        "id": "040gyLXZ6BxJ",
        "outputId": "f3b7cbce-8dce-4855-b3a6-9832e8e19016"
      },
      "execution_count": null,
      "outputs": [
        {
          "output_type": "stream",
          "name": "stdout",
          "text": [
            "meow\n",
            "meow\n",
            "meow\n"
          ]
        }
      ]
    },
    {
      "cell_type": "code",
      "source": [
        "for _ in range(3):\n",
        "  print('meow')"
      ],
      "metadata": {
        "colab": {
          "base_uri": "https://localhost:8080/"
        },
        "id": "XC9DKB806OQT",
        "outputId": "81e8a89e-7072-4717-e829-bc3db5abfe2c"
      },
      "execution_count": null,
      "outputs": [
        {
          "output_type": "stream",
          "name": "stdout",
          "text": [
            "meow\n",
            "meow\n",
            "meow\n"
          ]
        }
      ]
    },
    {
      "cell_type": "code",
      "source": [
        "# # this is the correct if we want to use 'i' variable\n",
        "# for i in range(3):\n",
        "#   print(f\"meow {i+1}\")\n",
        "\n",
        "  # this is the not correct because we are using i in the code block where we want to carry out some operations\n",
        "for _ in range(3):\n",
        "  print(f\"meow {i+1}\")"
      ],
      "metadata": {
        "colab": {
          "base_uri": "https://localhost:8080/"
        },
        "id": "K9JHiQlu6aLS",
        "outputId": "dbc3c750-82c6-428e-9aae-1b1c600c8c1c"
      },
      "execution_count": null,
      "outputs": [
        {
          "output_type": "stream",
          "name": "stdout",
          "text": [
            "meow 3\n",
            "meow 3\n",
            "meow 3\n"
          ]
        }
      ]
    },
    {
      "cell_type": "code",
      "source": [
        "print('meow\\t' *3)"
      ],
      "metadata": {
        "colab": {
          "base_uri": "https://localhost:8080/"
        },
        "id": "Uc1f7X607oN0",
        "outputId": "c19d63c6-1031-4dcb-8dcb-563474a62685"
      },
      "execution_count": null,
      "outputs": [
        {
          "output_type": "stream",
          "name": "stdout",
          "text": [
            "meow\tmeow\tmeow\t\n"
          ]
        }
      ]
    },
    {
      "cell_type": "code",
      "source": [
        "print('meow\\n' *3)"
      ],
      "metadata": {
        "colab": {
          "base_uri": "https://localhost:8080/"
        },
        "id": "AVOOjckM7w29",
        "outputId": "f55769fe-d6dd-45b9-d12b-1616d3e7fd9d"
      },
      "execution_count": null,
      "outputs": [
        {
          "output_type": "stream",
          "name": "stdout",
          "text": [
            "meow\n",
            "meow\n",
            "meow\n",
            "\n"
          ]
        }
      ]
    },
    {
      "cell_type": "code",
      "source": [
        "magicians = ['alice','david', 'carolina']\n",
        "for magician in magicians:\n",
        "  print((magician).title())"
      ],
      "metadata": {
        "colab": {
          "base_uri": "https://localhost:8080/"
        },
        "id": "cH7_eIBn9cX1",
        "outputId": "3c0460b5-2876-46ea-9754-3153d0d26b39"
      },
      "execution_count": null,
      "outputs": [
        {
          "output_type": "stream",
          "name": "stdout",
          "text": [
            "Alice\n",
            "David\n",
            "Carolina\n"
          ]
        }
      ]
    },
    {
      "cell_type": "code",
      "source": [
        "# for cat in cats\n",
        "# for dog in dogs\n",
        "# for item in item_list\n",
        "magicians = ['alice', 'david', 'carolina']\n",
        "for magician in magicians:\n",
        "  print(f\"{magician.title()}, that was a great trick!\")"
      ],
      "metadata": {
        "colab": {
          "base_uri": "https://localhost:8080/"
        },
        "id": "YoPmy_Vi95X8",
        "outputId": "bbadbf30-5c25-45b7-e770-80ec98411b2f"
      },
      "execution_count": null,
      "outputs": [
        {
          "output_type": "stream",
          "name": "stdout",
          "text": [
            "Alice, that was a great trick!\n",
            "David, that was a great trick!\n",
            "Carolina, that was a great trick!\n"
          ]
        }
      ]
    },
    {
      "cell_type": "code",
      "source": [
        "n = int(input('what is n? '))\n",
        "if n <0:\n",
        "    n = int(input(\"what is n? \"))\n",
        "    if n <0:\n",
        "       n = int(input(\"what is n? \"))\n",
        "       if n <0:\n",
        "         n = int(input(\"what is n? \"))"
      ],
      "metadata": {
        "id": "DXpyQBlT_DFr"
      },
      "execution_count": null,
      "outputs": []
    },
    {
      "cell_type": "code",
      "source": [
        "while True:\n",
        "    n = int(input('what is n? '))\n",
        "    if n <0:\n",
        "        continue # go back to the beginning of the loop\n",
        "    else:\n",
        "       print(\"Finally!!\")\n",
        "       break # breaks out the loop"
      ],
      "metadata": {
        "colab": {
          "base_uri": "https://localhost:8080/"
        },
        "id": "MoA0W4S2_oMj",
        "outputId": "91b649bd-92da-4dbe-d17b-5e4d46856ffa"
      },
      "execution_count": null,
      "outputs": [
        {
          "output_type": "stream",
          "name": "stdout",
          "text": [
            "what is n? -1\n",
            "what is n? 0\n",
            "Finally!!\n"
          ]
        }
      ]
    },
    {
      "cell_type": "code",
      "source": [
        "while True:\n",
        "  n = int(input('what is n? '))\n",
        "  if n >= 0:\n",
        "    break\n"
      ],
      "metadata": {
        "colab": {
          "base_uri": "https://localhost:8080/"
        },
        "id": "q0XqeCvnBaJU",
        "outputId": "78737655-1be1-4dff-a75e-dd3f77af29b6"
      },
      "execution_count": null,
      "outputs": [
        {
          "name": "stdout",
          "output_type": "stream",
          "text": [
            "what is n? 8\n"
          ]
        }
      ]
    },
    {
      "cell_type": "code",
      "source": [
        "while True:\n",
        "  n = int(input('what is n? '))\n",
        "  if n >= 0:\n",
        "    break\n",
        "\n"
      ],
      "metadata": {
        "id": "gN2H_KBYCdHf"
      },
      "execution_count": null,
      "outputs": []
    },
    {
      "cell_type": "code",
      "source": [
        "# Function Component\n",
        "# 1. name 2. argument 3. body/ precedure 4. Output/Return\n",
        "def make_smoothies(bananas, strawnerries, yogurt, ice):\n",
        "  return \"Delicious Smoothis\"\n",
        "print(make_smoothies)"
      ],
      "metadata": {
        "colab": {
          "base_uri": "https://localhost:8080/"
        },
        "id": "o6-KPJzUH6EM",
        "outputId": "0a95309e-dca1-4d38-9c40-0e8d75d9988d"
      },
      "execution_count": null,
      "outputs": [
        {
          "output_type": "stream",
          "name": "stdout",
          "text": [
            "<function make_smoothies at 0x7c6cf1132ef0>\n"
          ]
        }
      ]
    },
    {
      "cell_type": "code",
      "source": [
        "def add_numbers(a, b):\n",
        "  return a + b"
      ],
      "metadata": {
        "id": "0R79UkjwK0NJ"
      },
      "execution_count": null,
      "outputs": []
    },
    {
      "cell_type": "code",
      "source": [
        "result = add_numbers(2,3)\n",
        "print(result)"
      ],
      "metadata": {
        "colab": {
          "base_uri": "https://localhost:8080/"
        },
        "id": "HN9nn94kMR_m",
        "outputId": "0f411974-e34f-4d56-bb5f-9c7fdc80f9ed"
      },
      "execution_count": null,
      "outputs": [
        {
          "output_type": "stream",
          "name": "stdout",
          "text": [
            "5\n"
          ]
        }
      ]
    },
    {
      "cell_type": "code",
      "source": [
        "def greet(name):\n",
        "  return 'Hello, ' + name + \"!\"\n",
        "\n",
        "message= greet(\"Jamila\")\n",
        "print(message)"
      ],
      "metadata": {
        "colab": {
          "base_uri": "https://localhost:8080/"
        },
        "id": "VqyH_CXtMkOP",
        "outputId": "ea98b9a1-1ba5-47e0-8f9f-d4bf68c8f9a9"
      },
      "execution_count": null,
      "outputs": [
        {
          "output_type": "stream",
          "name": "stdout",
          "text": [
            "Hello, Jamila!\n"
          ]
        }
      ]
    },
    {
      "cell_type": "code",
      "source": [
        "# Ask the user for their name, remove teh whightspace from the string\n",
        "name = input(\"What is your name? \").strip().title()\n",
        "\n",
        "# print the output\n",
        "print(f\"hello, {name}\")"
      ],
      "metadata": {
        "colab": {
          "base_uri": "https://localhost:8080/"
        },
        "id": "G4qhVl_ANsn8",
        "outputId": "d8899ac3-d6f3-4a21-b8fe-41eba9bc232f"
      },
      "execution_count": null,
      "outputs": [
        {
          "output_type": "stream",
          "name": "stdout",
          "text": [
            "What is your name?         jamila\n",
            "hello, Jamila\n"
          ]
        }
      ]
    },
    {
      "cell_type": "code",
      "source": [
        "def hello():\n",
        "  print(\"hello\")\n",
        "\n",
        "name = input(\"What is your name? \").strip().title()\n",
        "hello()\n",
        "print(name)\n",
        "\n",
        "# print the output\n",
        "print(f\"hello, {name}\")"
      ],
      "metadata": {
        "colab": {
          "base_uri": "https://localhost:8080/"
        },
        "id": "z4nSsjvdOWLh",
        "outputId": "2f5623dc-6e00-4fa7-ff10-4bb8104dbf51"
      },
      "execution_count": null,
      "outputs": [
        {
          "output_type": "stream",
          "name": "stdout",
          "text": [
            "What is your name? Jamila\n",
            "hello\n",
            "Jamila\n",
            "hello, Jamila\n"
          ]
        }
      ]
    },
    {
      "cell_type": "code",
      "source": [
        "def hello(to):\n",
        "  print('Hello, ', to)\n",
        "\n",
        "name = input(\"what is your name?\")\n",
        "hello(name)"
      ],
      "metadata": {
        "colab": {
          "base_uri": "https://localhost:8080/"
        },
        "id": "19U74e2xOWcZ",
        "outputId": "90bf2938-8d63-4f79-8eff-ffb76ecc69da"
      },
      "execution_count": null,
      "outputs": [
        {
          "output_type": "stream",
          "name": "stdout",
          "text": [
            "what is your name?jamila\n",
            "Hello,  jamila\n"
          ]
        }
      ]
    },
    {
      "cell_type": "code",
      "source": [
        "def hello(to=\"Python world\"):\n",
        "  print('hello ', to)\n",
        "\n",
        "name = input(\"what is your name? \")\n",
        "hello(name)\n",
        "\n",
        "hello()\n"
      ],
      "metadata": {
        "colab": {
          "base_uri": "https://localhost:8080/"
        },
        "id": "CEc3yelMOWtD",
        "outputId": "93ead057-b4b5-43c3-f344-fec3de7837ad"
      },
      "execution_count": null,
      "outputs": [
        {
          "output_type": "stream",
          "name": "stdout",
          "text": [
            "what is your name? Jamila\n",
            "hello  Jamila\n",
            "hello  Python world\n"
          ]
        }
      ]
    },
    {
      "cell_type": "code",
      "source": [
        "def main():\n",
        "  # output using our own function\n",
        "  name = input(\"what is your name? \")\n",
        "  hello(name)\n",
        "\n",
        "  # create our own function\n",
        "def hello(to='world'):\n",
        "  print(\"hello, \", to)\n",
        "main()"
      ],
      "metadata": {
        "colab": {
          "base_uri": "https://localhost:8080/"
        },
        "id": "DcTyr2Mk5wSh",
        "outputId": "4d560717-d42e-4220-90a5-fb33279032a4"
      },
      "execution_count": null,
      "outputs": [
        {
          "output_type": "stream",
          "name": "stdout",
          "text": [
            "what is your name? jamila\n",
            "hello,  jamila\n"
          ]
        }
      ]
    },
    {
      "cell_type": "code",
      "source": [
        "def main():\n",
        "  x = int(input(\"what is x? \"))\n",
        "  print(\"x squared is\", square(x))\n",
        "\n",
        "def square(n):\n",
        "  return n * n\n",
        "\n",
        "main()"
      ],
      "metadata": {
        "colab": {
          "base_uri": "https://localhost:8080/"
        },
        "id": "XZ8g4OaZCuuR",
        "outputId": "ed0c7b7c-e82a-4036-b87f-9c64e6ea5323"
      },
      "execution_count": null,
      "outputs": [
        {
          "output_type": "stream",
          "name": "stdout",
          "text": [
            "what is x? 4\n",
            "x squared is 16\n"
          ]
        }
      ]
    },
    {
      "cell_type": "code",
      "source": [
        "# docstring\n",
        "def describe_pet(pet_name,pet_type=\"dog\"):\n",
        "  \"\"\" Display information about a pet\"\"\"\n",
        "\n",
        "  print(f\"I have a {pet_type}.\")\n",
        "  print(f\"My {pet_type}'s name is {pet_name.title()}\")\n",
        "\n",
        "describe_pet(\"hasky\",\"mic\")"
      ],
      "metadata": {
        "colab": {
          "base_uri": "https://localhost:8080/"
        },
        "id": "o9u89aulFZZR",
        "outputId": "f03fe986-d3f8-4be6-8283-f197826b8718"
      },
      "execution_count": null,
      "outputs": [
        {
          "output_type": "stream",
          "name": "stdout",
          "text": [
            "I have a mic.\n",
            "My mic's name is Hasky\n"
          ]
        }
      ]
    },
    {
      "cell_type": "code",
      "source": [
        "describe_pet(pet_name='willie')"
      ],
      "metadata": {
        "colab": {
          "base_uri": "https://localhost:8080/"
        },
        "id": "viS5ZjzBJ373",
        "outputId": "dc60818d-0bd8-49dd-873c-502f80c2d156"
      },
      "execution_count": null,
      "outputs": [
        {
          "output_type": "stream",
          "name": "stdout",
          "text": [
            "I have a dog.\n",
            "My dog's name is Willie\n"
          ]
        }
      ]
    },
    {
      "cell_type": "code",
      "source": [
        "# Equivalent Function calls\n",
        "# docstring\n",
        "def describe_pet(pet_name,pet_type=\"dog\"):\n",
        "  \"\"\" Display information about a pet\"\"\"\n",
        "\n",
        "  print(f\"I have a {pet_type}.\")\n",
        "  print(f\"My {pet_type}'s name is {pet_name.title()}\")\n",
        "\n",
        "describe_pet(\"hasky\")"
      ],
      "metadata": {
        "colab": {
          "base_uri": "https://localhost:8080/"
        },
        "id": "JH5ACJVnNsle",
        "outputId": "05adb557-d576-40a4-f372-b5b12a01fc4c"
      },
      "execution_count": null,
      "outputs": [
        {
          "output_type": "stream",
          "name": "stdout",
          "text": [
            "I have a dog.\n",
            "My dog's name is Hasky\n"
          ]
        }
      ]
    },
    {
      "cell_type": "code",
      "source": [
        "# Random\n",
        "import random\n"
      ],
      "metadata": {
        "id": "5gfQE2_OThSM"
      },
      "execution_count": null,
      "outputs": []
    },
    {
      "cell_type": "code",
      "source": [
        "coin = random.choice([\"heads\",\"tails\"])\n",
        "print(coin)"
      ],
      "metadata": {
        "colab": {
          "base_uri": "https://localhost:8080/"
        },
        "id": "POZdr3uATlxU",
        "outputId": "23d0df43-6b2f-4e9e-b95a-46b97fafeab9"
      },
      "execution_count": null,
      "outputs": [
        {
          "output_type": "stream",
          "name": "stdout",
          "text": [
            "tails\n"
          ]
        }
      ]
    },
    {
      "cell_type": "code",
      "source": [
        "# Test 50/50\n",
        "heads = 0\n",
        "\n",
        "num_iterations = 100\n",
        "\n",
        "for i in range(num_iterations):\n",
        "  coin = random.choice([\"heads\",\"tails\"])\n",
        "  if coin ==\"heads\":\n",
        "    heads += 1\n",
        "\n",
        "heads_fraction = heads / num_iterations\n",
        "print(heads_fraction)"
      ],
      "metadata": {
        "colab": {
          "base_uri": "https://localhost:8080/"
        },
        "id": "lVj7mZbET2yl",
        "outputId": "6a563863-c0e6-49ac-ba0c-455f1b5c0a1f"
      },
      "execution_count": null,
      "outputs": [
        {
          "output_type": "stream",
          "name": "stdout",
          "text": [
            "0.43\n"
          ]
        }
      ]
    },
    {
      "cell_type": "code",
      "source": [],
      "metadata": {
        "id": "uaI9nNg8axoD"
      },
      "execution_count": null,
      "outputs": []
    },
    {
      "cell_type": "code",
      "source": [
        "from random import choice\n",
        "\n",
        "coin = choice([\"heads\",\"tails\"])\n",
        "print(coin)"
      ],
      "metadata": {
        "colab": {
          "base_uri": "https://localhost:8080/"
        },
        "id": "2tPuh4-eU19b",
        "outputId": "522edbaa-b86f-4647-efff-2ba8bd349f53"
      },
      "execution_count": null,
      "outputs": [
        {
          "output_type": "stream",
          "name": "stdout",
          "text": [
            "heads\n"
          ]
        }
      ]
    },
    {
      "cell_type": "code",
      "source": [
        "import statistics"
      ],
      "metadata": {
        "id": "cJkRXQCkayWc"
      },
      "execution_count": null,
      "outputs": []
    },
    {
      "cell_type": "code",
      "source": [
        "## Simulating Dice Rools: Analayzing the resulting sums\n",
        "import random\n",
        "import statistics\n",
        "import matplotlib.pyplot as plt\n"
      ],
      "metadata": {
        "id": "hlz8qBIoa2oj"
      },
      "execution_count": null,
      "outputs": []
    },
    {
      "cell_type": "code",
      "source": [
        "# # number of times to roll the dice\n",
        "num_rolls = 1000000\n",
        "\n",
        "# Store the sum of the dice rolls\n",
        "dice_sums = []\n",
        "\n",
        "for _ in range(num_rolls):\n",
        "  # Simulate rolling two six_sided dice\n",
        "  die1 = random.randint(1,6)\n",
        "  die2 = random.randint(1,6)\n",
        "\n",
        "  # Store the sum of the dice toll\n",
        "  dice_sums.append(die1 + die2)\n",
        "\n",
        "# Calculate statistics\n",
        "mean = statistics.mean(dice_sums)\n",
        "median = statistics.median(dice_sums)\n",
        "mode = statistics.mode(dice_sums)\n",
        "std_dev = statistics.stdev(dice_sums)\n",
        "# print teh calculated statistics\n",
        "print(f\"Mean: {mean}\")\n",
        "print(f\"Median: {median}\")\n",
        "print(f\"Mode: {mode}\")\n",
        "print(f\"Standard Deviation: {std_dev}\")"
      ],
      "metadata": {
        "colab": {
          "base_uri": "https://localhost:8080/"
        },
        "id": "HFm1uqTNbHGa",
        "outputId": "8164d2ce-ecbf-48c1-e763-6052d6afab75"
      },
      "execution_count": null,
      "outputs": [
        {
          "output_type": "stream",
          "name": "stdout",
          "text": [
            "Mean: 6.996617\n",
            "Median: 7.0\n",
            "Mode: 7\n",
            "Standard Deviation: 2.4144513631229736\n"
          ]
        }
      ]
    },
    {
      "cell_type": "code",
      "source": [
        "# Plot the histogram of the dices\n",
        "\n",
        "plt.hist(dice_sums, bins = range(2,14), align= 'left', rwidth= 0.8, density=True, color= 'red',alpha=0.5)\n",
        "plt.title(\"Historgam of Dice Sums\")\n",
        "plt.xlabel(\"Sum of Dice rolls - Two dices\")\n",
        "plt.ylabel('Frequency')\n",
        "plt.xticks(range(2,13))\n",
        "plt.show()"
      ],
      "metadata": {
        "colab": {
          "base_uri": "https://localhost:8080/",
          "height": 472
        },
        "id": "lawWIvNoCmfZ",
        "outputId": "b32b19d3-233a-48e8-b377-f263f83907d4"
      },
      "execution_count": null,
      "outputs": [
        {
          "output_type": "display_data",
          "data": {
            "text/plain": [
              "<Figure size 640x480 with 1 Axes>"
            ],
            "image/png": "[encoded data removed]"
          },
          "metadata": {}
        }
      ]
    },
    {
      "cell_type": "code",
      "source": [
        "# Pssible Results\n",
        "\n",
        "# 2: dice=1, dice=1\n",
        "# 7: (1,6),(6,1),(2,5),(5,2), (3,4),(4,3)\n",
        "# 8: (2,6),(6,2),(3,5),(5,3), (4,4)\n",
        "# 6: (1,5),(5,1),(2,4),(4,2), (3,3)\n",
        "# 12: (6,6)"
      ],
      "metadata": {
        "id": "O79selM4FFfM"
      },
      "execution_count": null,
      "outputs": []
    },
    {
      "cell_type": "code",
      "source": [
        "!pip install cowsay\n"
      ],
      "metadata": {
        "colab": {
          "base_uri": "https://localhost:8080/"
        },
        "id": "yFBDfLucJNxf",
        "outputId": "fe1acdf0-9ed2-4169-ca51-864e9542561e"
      },
      "execution_count": null,
      "outputs": [
        {
          "output_type": "stream",
          "name": "stdout",
          "text": [
            "Requirement already satisfied: cowsay in /usr/local/lib/python3.10/dist-packages (6.1)\n"
          ]
        }
      ]
    },
    {
      "cell_type": "code",
      "source": [
        "import cowsay\n",
        "\n",
        "name = input(\"what is your nane\")\n",
        "cowsay.cow(\"hello,\" + name)\n"
      ],
      "metadata": {
        "colab": {
          "base_uri": "https://localhost:8080/"
        },
        "id": "eEmE2RxNJaf9",
        "outputId": "e89e10ca-fb19-4971-995d-2f4f721a58ad"
      },
      "execution_count": null,
      "outputs": [
        {
          "output_type": "stream",
          "name": "stdout",
          "text": [
            "what is your nanejamila\n",
            "  ____________\n",
            "| hello,jamila |\n",
            "  ============\n",
            "            \\\n",
            "             \\\n",
            "               ^__^\n",
            "               (oo)\\_______\n",
            "               (__)\\       )\\/\\\n",
            "                   ||----w |\n",
            "                   ||     ||\n"
          ]
        }
      ]
    },
    {
      "cell_type": "code",
      "source": [
        "name = input(\"what is your nane\")\n",
        "cowsay.trex(\"hello,\" + name)"
      ],
      "metadata": {
        "colab": {
          "base_uri": "https://localhost:8080/"
        },
        "id": "mCa-Os_KJjyg",
        "outputId": "15b53998-6f5e-474d-cb9e-247baca1115a"
      },
      "execution_count": null,
      "outputs": [
        {
          "output_type": "stream",
          "name": "stdout",
          "text": [
            "what is your naneMOMO\n",
            "  __________\n",
            "| hello,MOMO |\n",
            "  ==========\n",
            "                 \\\n",
            "                  \\\n",
            "                   \\\n",
            "                    \\\n",
            "                       .-=-==--==--.\n",
            "                 ..-==\"  ,'o`)      `.\n",
            "               ,'         `\"'         \\\n",
            "              :  (                     `.__...._\n",
            "              |                  )    /         `-=-.\n",
            "              :       ,vv.-._   /    /               `---==-._\n",
            "               \\/\\/\\/VV ^ d88`;'    /                         `.\n",
            "                   ``  ^/d88P!'    /             ,              `._\n",
            "                      ^/    !'   ,.      ,      /                  \"-,,__,,--'\"\"\"\"-.\n",
            "                     ^/    !'  ,'  \\ . .(      (         _           )  ) ) ) ))_,-.\\\n",
            "                    ^(__ ,!',\"'   ;:+.:%:a.     \\:.. . ,'          )  )  ) ) ,\"'    '\n",
            "                    ',,,'','     /o:::\":%:%a.    \\:.:.:         .    )  ) _,'\n",
            "                     \"\"\"'       ;':::'' `+%%%a._  \\%:%|         ;.). _,-\"\"\n",
            "                            ,-='_.-'      ``:%::)  )%:|        /:._,\"\n",
            "                           (/(/\"           ,\" ,'_,'%%%:       (_,'\n",
            "                                          (  (//(`.___;        \\\n",
            "                                           \\     \\    `         `\n",
            "                                            `.    `.   `.        :\n",
            "                                              \\. . .\\    : . . . :\n",
            "                                               \\. . .:    `.. . .:\n",
            "                                                `..:.:\\     \\:...\\\n",
            "                                                 ;:.:.;      ::...:\n",
            "                                                 ):%::       :::::;\n",
            "                                             __,::%:(        :::::\n",
            "                                          ,;:%%%%%%%:        ;:%::\n",
            "                                            ;,--\"\"-.`\\  ,=--':%:%:\\\n",
            "                                           /\"       \"| /-\".:%%%%%%%\\\n",
            "                                                           ;,-\"'`)%%)\n",
            "                                                          /\"      \"|\n"
          ]
        }
      ]
    },
    {
      "cell_type": "code",
      "source": [
        "import matplotlib.pyplot as plt\n",
        "\n",
        "numbers = [1,2,3,4,5]\n",
        "squares = [1,4,9,16,25]\n",
        "\n",
        "# plot a simple line gragh\n",
        "plt.figure(figsize=(6,4)) # image\n",
        "plt.plot(numbers, squares, marker= 'o')\n",
        "plt.title(\"simple Line Gragh\")\n",
        "plt.xlabel(\"Numbers\")\n",
        "plt.ylabel('Squares')\n",
        "plt.show()"
      ],
      "metadata": {
        "colab": {
          "base_uri": "https://localhost:8080/",
          "height": 410
        },
        "id": "hIdXGQIwKvf9",
        "outputId": "57e3ff7c-2f23-455a-cb29-6741fa093d21"
      },
      "execution_count": null,
      "outputs": [
        {
          "output_type": "display_data",
          "data": {
            "text/plain": [
              "<Figure size 600x400 with 1 Axes>"
            ],
            "image/png": "[encoded data removed]"
          },
          "metadata": {}
        }
      ]
    },
    {
      "cell_type": "code",
      "source": [
        "# plot a simple bar gragh\n",
        "plt.figure(figsize=(6,4)) # image\n",
        "plt.bar(numbers, squares, color='blue')\n",
        "plt.title(\"simple Line Gragh\")\n",
        "plt.xlabel(\"Numbers\")\n",
        "plt.ylabel('Squares')\n",
        "plt.show()"
      ],
      "metadata": {
        "colab": {
          "base_uri": "https://localhost:8080/",
          "height": 410
        },
        "id": "esssVzRvfuc6",
        "outputId": "32c09c8d-3278-4043-809e-62f5ff5a2375"
      },
      "execution_count": null,
      "outputs": [
        {
          "output_type": "display_data",
          "data": {
            "text/plain": [
              "<Figure size 600x400 with 1 Axes>"
            ],
            "image/png": "[encoded data removed]"
          },
          "metadata": {}
        }
      ]
    },
    {
      "cell_type": "markdown",
      "source": [
        "Third Party Libraries\n"
      ],
      "metadata": {
        "id": "hRJmFQwsG0f1"
      }
    },
    {
      "cell_type": "code",
      "source": [
        "# PyPI Libraries\n",
        "# Making our own Library/Module/package/Function\n",
        "\n",
        "def hello(name):\n",
        "  print(f\"Hello, {name}\")\n",
        "\n",
        "def goodbye(name):\n",
        "  print(f\"Goodbye, {name}\")"
      ],
      "metadata": {
        "id": "abHpaqjwG9JN"
      },
      "execution_count": null,
      "outputs": []
    },
    {
      "cell_type": "code",
      "source": [
        "hello(\"jamila\")"
      ],
      "metadata": {
        "colab": {
          "base_uri": "https://localhost:8080/"
        },
        "id": "RGtimR_Mg46-",
        "outputId": "f27d618b-607e-4e1c-e7b7-08e2c8bd8f1c"
      },
      "execution_count": null,
      "outputs": [
        {
          "output_type": "stream",
          "name": "stdout",
          "text": [
            "Hello, jamila\n"
          ]
        }
      ]
    },
    {
      "cell_type": "code",
      "source": [
        "goodbye(\"jamila\")"
      ],
      "metadata": {
        "colab": {
          "base_uri": "https://localhost:8080/"
        },
        "id": "0SuQL7ruhCQz",
        "outputId": "a3684e22-1c84-4660-941b-2349716b86a0"
      },
      "execution_count": null,
      "outputs": [
        {
          "output_type": "stream",
          "name": "stdout",
          "text": [
            "Goodbye, jamila\n"
          ]
        }
      ]
    },
    {
      "cell_type": "code",
      "source": [
        "!pip install matplotlib-venn"
      ],
      "metadata": {
        "colab": {
          "base_uri": "https://localhost:8080/"
        },
        "id": "rUoSs3B0sVDo",
        "outputId": "7616fb35-ec8a-4e5c-b5df-fe1a364ae371"
      },
      "execution_count": null,
      "outputs": [
        {
          "output_type": "stream",
          "name": "stdout",
          "text": [
            "Requirement already satisfied: matplotlib-venn in /usr/local/lib/python3.10/dist-packages (0.11.10)\n",
            "Requirement already satisfied: matplotlib in /usr/local/lib/python3.10/dist-packages (from matplotlib-venn) (3.7.1)\n",
            "Requirement already satisfied: numpy in /usr/local/lib/python3.10/dist-packages (from matplotlib-venn) (1.25.2)\n",
            "Requirement already satisfied: scipy in /usr/local/lib/python3.10/dist-packages (from matplotlib-venn) (1.11.4)\n",
            "Requirement already satisfied: contourpy>=1.0.1 in /usr/local/lib/python3.10/dist-packages (from matplotlib->matplotlib-venn) (1.2.0)\n",
            "Requirement already satisfied: cycler>=0.10 in /usr/local/lib/python3.10/dist-packages (from matplotlib->matplotlib-venn) (0.12.1)\n",
            "Requirement already satisfied: fonttools>=4.22.0 in /usr/local/lib/python3.10/dist-packages (from matplotlib->matplotlib-venn) (4.49.0)\n",
            "Requirement already satisfied: kiwisolver>=1.0.1 in /usr/local/lib/python3.10/dist-packages (from matplotlib->matplotlib-venn) (1.4.5)\n",
            "Requirement already satisfied: packaging>=20.0 in /usr/local/lib/python3.10/dist-packages (from matplotlib->matplotlib-venn) (23.2)\n",
            "Requirement already satisfied: pillow>=6.2.0 in /usr/local/lib/python3.10/dist-packages (from matplotlib->matplotlib-venn) (9.4.0)\n",
            "Requirement already satisfied: pyparsing>=2.3.1 in /usr/local/lib/python3.10/dist-packages (from matplotlib->matplotlib-venn) (3.1.1)\n",
            "Requirement already satisfied: python-dateutil>=2.7 in /usr/local/lib/python3.10/dist-packages (from matplotlib->matplotlib-venn) (2.8.2)\n",
            "Requirement already satisfied: six>=1.5 in /usr/local/lib/python3.10/dist-packages (from python-dateutil>=2.7->matplotlib->matplotlib-venn) (1.16.0)\n"
          ]
        }
      ]
    },
    {
      "cell_type": "code",
      "source": [
        "from saying import *\n",
        "name = input(\"what is your name? \")\n",
        "hello(name)\n",
        "goodbye(name)"
      ],
      "metadata": {
        "colab": {
          "base_uri": "https://localhost:8080/"
        },
        "id": "uYz0jtBtrqQ8",
        "outputId": "a4579f7f-7292-423f-e1cc-8f6313387d1c"
      },
      "execution_count": null,
      "outputs": [
        {
          "output_type": "stream",
          "name": "stdout",
          "text": [
            "what is your name? jamila\n",
            "Hello, jamila\n",
            "Goodbye, jamila\n"
          ]
        }
      ]
    },
    {
      "cell_type": "code",
      "source": [
        "! rm # remove"
      ],
      "metadata": {
        "id": "KViNlgdchtYY"
      },
      "execution_count": null,
      "outputs": []
    },
    {
      "cell_type": "markdown",
      "source": [
        "# New Section"
      ],
      "metadata": {
        "id": "ls4YboBGiZzt"
      }
    },
    {
      "cell_type": "code",
      "source": [
        "from bmi_calculator import calculate_bmi\n",
        "\n",
        "\n"
      ],
      "metadata": {
        "id": "QlEzNhcAibfd"
      },
      "execution_count": null,
      "outputs": []
    },
    {
      "cell_type": "code",
      "source": [
        "weight = float(input(\"weight in kilograms : \"))\n",
        "height = float(input('Height in meters: '))\n",
        "\n",
        "bmi = calculate_bmi(weight, height)\n",
        "print(bmi)"
      ],
      "metadata": {
        "colab": {
          "base_uri": "https://localhost:8080/"
        },
        "id": "FSlGpuyL7Kw_",
        "outputId": "a216bf59-2bc8-4bc0-8fa3-36a15a5636af"
      },
      "execution_count": null,
      "outputs": [
        {
          "output_type": "stream",
          "name": "stdout",
          "text": [
            "weight in kilograms : 80\n",
            "Height in meters: 1.82\n",
            "24.151672503320853\n"
          ]
        }
      ]
    },
    {
      "cell_type": "code",
      "source": [
        "# Error Messages\n",
        "\n",
        "x = int(input(\"what is x? \"))\n",
        "print(f\"x is {x}.\")\n"
      ],
      "metadata": {
        "colab": {
          "base_uri": "https://localhost:8080/"
        },
        "id": "aHHpO4Df83Tc",
        "outputId": "6d182fb2-c9dc-42cf-f910-eeb65609bfe7"
      },
      "execution_count": null,
      "outputs": [
        {
          "output_type": "stream",
          "name": "stdout",
          "text": [
            "what is x? 2\n",
            "x is 2.\n"
          ]
        }
      ]
    },
    {
      "cell_type": "code",
      "source": [
        "# Try and except\n"
      ],
      "metadata": {
        "id": "yJaHaNIc-TdV"
      },
      "execution_count": null,
      "outputs": []
    },
    {
      "cell_type": "code",
      "source": [
        "try:\n",
        "  x = int(input(\"what is x? \"))\n",
        "  print(f\"x ix {x}.\")\n",
        "except:\n",
        "  print(\"x is not an integer\")"
      ],
      "metadata": {
        "colab": {
          "base_uri": "https://localhost:8080/"
        },
        "id": "Y_6SqR48-gWb",
        "outputId": "4401289a-a76b-4ea0-f5e1-0bba0a24ab7d"
      },
      "execution_count": null,
      "outputs": [
        {
          "output_type": "stream",
          "name": "stdout",
          "text": [
            "what is x? cat\n",
            "x is not an integer\n"
          ]
        }
      ]
    },
    {
      "cell_type": "code",
      "source": [
        "try:\n",
        "  x = int(input(\"what is x? \"))\n",
        "except:\n",
        "  print(\"x is not an integer\")\n",
        "\n",
        "print(f\"x is {x}.\")"
      ],
      "metadata": {
        "colab": {
          "base_uri": "https://localhost:8080/"
        },
        "id": "CBoUNqIIBy72",
        "outputId": "b10a18d0-9b4a-4d70-f88a-83f5b7db5a81"
      },
      "execution_count": null,
      "outputs": [
        {
          "name": "stdout",
          "output_type": "stream",
          "text": [
            "what is x? 3\n"
          ]
        }
      ]
    },
    {
      "cell_type": "code",
      "source": [
        "# try, except, & else block\n",
        "try:\n",
        "  x = int(input(\"what is x? \"))\n",
        "except:\n",
        "  print(\"x is not an integer\")\n",
        "else:\n",
        "  print(f\"x is {x}\")"
      ],
      "metadata": {
        "colab": {
          "base_uri": "https://localhost:8080/"
        },
        "id": "n7yMfFR8DXkx",
        "outputId": "c52e5d32-6eec-4b5f-f9ca-6f7591ac3793"
      },
      "execution_count": null,
      "outputs": [
        {
          "output_type": "stream",
          "name": "stdout",
          "text": [
            "what is x? cat\n",
            "x is not an integer\n"
          ]
        }
      ]
    },
    {
      "cell_type": "code",
      "source": [
        "while True:\n",
        "  try:\n",
        "    x = int(input(\"what is x? \"))\n",
        "  except ValueError:\n",
        "    print(\"x is not an integer\")\n",
        "  else:\n",
        "    break\n",
        "\n",
        "print(f\"x is {x}\")\n"
      ],
      "metadata": {
        "colab": {
          "base_uri": "https://localhost:8080/"
        },
        "id": "7VWriPyHE6Hy",
        "outputId": "b5d17605-7da2-4e8c-b6aa-9c7867944f6f"
      },
      "execution_count": null,
      "outputs": [
        {
          "output_type": "stream",
          "name": "stdout",
          "text": [
            "what is x? 5\n",
            "x is 5\n"
          ]
        }
      ]
    },
    {
      "cell_type": "code",
      "source": [
        "def main():\n",
        "  x = get_int()\n",
        "  print(f\"x is {x}.\")\n",
        "\n",
        "def get_int():\n",
        "  \"\"\" This finction gets input from the user \"\"\"\n",
        "  while True:\n",
        "    try:\n",
        "      x = int(input(\"what is x? \"))\n",
        "    except ValueError:\n",
        "      print(\"x is not an integer\")\n",
        "    else:\n",
        "      break\n",
        "  return x"
      ],
      "metadata": {
        "id": "TIAZ3zuFGfF7"
      },
      "execution_count": null,
      "outputs": []
    },
    {
      "cell_type": "code",
      "source": [
        "def main():\n",
        "  x = get_int()\n",
        "  print(f\"x is {x}.\")\n",
        "\n",
        "def get_int():\n",
        "  \"\"\" This finction gets input from the user \"\"\"\n",
        "  while True:\n",
        "    try:\n",
        "      x = int(input(\"what is x? \"))\n",
        "    except ValueError:\n",
        "      print(\"x is not an integer\")\n",
        "    else:\n",
        "      return x\n"
      ],
      "metadata": {
        "id": "YnaH-WgRKlWm"
      },
      "execution_count": null,
      "outputs": []
    },
    {
      "cell_type": "code",
      "source": [
        "main()"
      ],
      "metadata": {
        "colab": {
          "base_uri": "https://localhost:8080/"
        },
        "id": "ozjxAHyUIGIU",
        "outputId": "6d714968-8f95-4b23-fb9d-a05837e10dad"
      },
      "execution_count": null,
      "outputs": [
        {
          "output_type": "stream",
          "name": "stdout",
          "text": [
            "what is x? 4\n",
            "x is 4.\n"
          ]
        }
      ]
    },
    {
      "cell_type": "code",
      "source": [
        "import this\n"
      ],
      "metadata": {
        "colab": {
          "base_uri": "https://localhost:8080/"
        },
        "id": "6Gb0mYY9LcIs",
        "outputId": "7b3c99a6-dce4-418f-db86-2fd59c497556"
      },
      "execution_count": null,
      "outputs": [
        {
          "output_type": "stream",
          "name": "stdout",
          "text": [
            "The Zen of Python, by Tim Peters\n",
            "\n",
            "Beautiful is better than ugly.\n",
            "Explicit is better than implicit.\n",
            "Simple is better than complex.\n",
            "Complex is better than complicated.\n",
            "Flat is better than nested.\n",
            "Sparse is better than dense.\n",
            "Readability counts.\n",
            "Special cases aren't special enough to break the rules.\n",
            "Although practicality beats purity.\n",
            "Errors should never pass silently.\n",
            "Unless explicitly silenced.\n",
            "In the face of ambiguity, refuse the temptation to guess.\n",
            "There should be one-- and preferably only one --obvious way to do it.\n",
            "Although that way may not be obvious at first unless you're Dutch.\n",
            "Now is better than never.\n",
            "Although never is often better than *right* now.\n",
            "If the implementation is hard to explain, it's a bad idea.\n",
            "If the implementation is easy to explain, it may be a good idea.\n",
            "Namespaces are one honking great idea -- let's do more of those!\n"
          ]
        }
      ]
    },
    {
      "cell_type": "code",
      "source": [
        "def main():\n",
        "  x = get_int()\n",
        "  print(f\"x is {x}.\")\n",
        "\n",
        "def get_int():\n",
        "  \"\"\" This finction gets input from the user \"\"\"\n",
        "  while True:\n",
        "    try:\n",
        "      x = int(input(\"what is x? \"))\n",
        "    except ValueError:\n",
        "      pass\n",
        "    else:\n",
        "      return x"
      ],
      "metadata": {
        "id": "CHUjbErdLyAH"
      },
      "execution_count": null,
      "outputs": []
    },
    {
      "cell_type": "code",
      "source": [
        "main()"
      ],
      "metadata": {
        "colab": {
          "base_uri": "https://localhost:8080/"
        },
        "id": "X7j7nYSbL4uk",
        "outputId": "d8703098-08e0-49be-fb1d-3f4603ba64a8"
      },
      "execution_count": null,
      "outputs": [
        {
          "output_type": "stream",
          "name": "stdout",
          "text": [
            "what is x? cat\n",
            "what is x? dog\n",
            "what is x? 3\n",
            "x is 3.\n"
          ]
        }
      ]
    },
    {
      "cell_type": "code",
      "source": [
        "name = input(\"what is your name? \")\n",
        "print(f'Hello, {name}')\n"
      ],
      "metadata": {
        "colab": {
          "base_uri": "https://localhost:8080/"
        },
        "id": "2yTC0FoIM8Vk",
        "outputId": "653c1e02-fea7-44de-e755-a742d4762578"
      },
      "execution_count": null,
      "outputs": [
        {
          "output_type": "stream",
          "name": "stdout",
          "text": [
            "what is your name? jamila\n",
            "Hello, jamila\n"
          ]
        }
      ]
    },
    {
      "cell_type": "code",
      "source": [
        "names =[]\n",
        "for _ in range(3):\n",
        "  name= input(\"what is your name?\")\n",
        "  names.append(name)"
      ],
      "metadata": {
        "colab": {
          "base_uri": "https://localhost:8080/"
        },
        "id": "BLwuzwD6Ndi8",
        "outputId": "75936150-164e-4387-a3a8-e11fc8f064f2"
      },
      "execution_count": null,
      "outputs": [
        {
          "name": "stdout",
          "output_type": "stream",
          "text": [
            "what is your name?jamila\n",
            "what is your name?najiya\n",
            "what is your name?gulnur\n"
          ]
        }
      ]
    },
    {
      "cell_type": "code",
      "source": [
        "names =[]\n",
        "for _ in range(3):\n",
        "  names.append(input(\"what is your name?\"))\n",
        "for name in sorted(names):\n",
        "  print(name.title())"
      ],
      "metadata": {
        "colab": {
          "base_uri": "https://localhost:8080/"
        },
        "id": "Sgudb7hTN9QR",
        "outputId": "2a688a3c-2257-4e79-bc92-0bc06b5fffed"
      },
      "execution_count": null,
      "outputs": [
        {
          "output_type": "stream",
          "name": "stdout",
          "text": [
            "what is your name? gul\n",
            "what is your name? nur\n",
            "what is your name?rahima\n",
            " Gul\n",
            " Nur\n",
            "Rahima\n"
          ]
        }
      ]
    },
    {
      "cell_type": "code",
      "source": [
        "print(names)"
      ],
      "metadata": {
        "colab": {
          "base_uri": "https://localhost:8080/"
        },
        "id": "6BVOYP_3NwfT",
        "outputId": "7caa3b76-4747-43eb-a9a8-701f48c22ec3"
      },
      "execution_count": null,
      "outputs": [
        {
          "output_type": "stream",
          "name": "stdout",
          "text": [
            "[' gul', ' nur', 'rahima']\n"
          ]
        }
      ]
    },
    {
      "cell_type": "code",
      "source": [
        "name= input(\"what is your name?\")\n",
        "\n",
        "file = open(\"names.txt\",\"w\") # open the file , if ther is not a file write a file\n",
        "file.write(name)\n",
        "file.close()"
      ],
      "metadata": {
        "colab": {
          "base_uri": "https://localhost:8080/"
        },
        "id": "7RkYpYx9Okkl",
        "outputId": "fa4cffa0-6c1f-4eab-85e4-4657625b8736"
      },
      "execution_count": null,
      "outputs": [
        {
          "name": "stdout",
          "output_type": "stream",
          "text": [
            "what is your name?Jamila\n"
          ]
        }
      ]
    },
    {
      "cell_type": "code",
      "source": [
        "!rm names.txt"
      ],
      "metadata": {
        "id": "ouJ0vzGDWt7-"
      },
      "execution_count": null,
      "outputs": []
    },
    {
      "cell_type": "code",
      "source": [
        "name= input(\"what is your color?\")\n",
        "\n",
        "file = open(\"class.py\",\"w\") # open the file , if ther is not a file write a file\n",
        "file.write(name)\n",
        "file.close()"
      ],
      "metadata": {
        "colab": {
          "base_uri": "https://localhost:8080/"
        },
        "id": "mtNXepqFPs1h",
        "outputId": "6be76fd2-e729-4321-fff0-5737f67ed7e8"
      },
      "execution_count": null,
      "outputs": [
        {
          "name": "stdout",
          "output_type": "stream",
          "text": [
            "what is your color? red\n"
          ]
        }
      ]
    },
    {
      "cell_type": "code",
      "source": [
        "name = input(\"Name: \")\n",
        "file = open(\"names.txt\", \"a\")\n",
        "file.write(f\"{name}\\n\" )\n",
        "file.close()\n"
      ],
      "metadata": {
        "colab": {
          "base_uri": "https://localhost:8080/"
        },
        "id": "KVo1XCuOXGik",
        "outputId": "6949a553-f9d3-47a6-94c5-1e70996ff662"
      },
      "execution_count": null,
      "outputs": [
        {
          "name": "stdout",
          "output_type": "stream",
          "text": [
            "Name: Ihsan\n"
          ]
        }
      ]
    },
    {
      "cell_type": "code",
      "source": [
        "!rm names.txt"
      ],
      "metadata": {
        "id": "4pS-q041bs9-"
      },
      "execution_count": null,
      "outputs": []
    },
    {
      "cell_type": "code",
      "source": [
        "name = input(\"Name: \")\n",
        "with open(\"names.txt\", \"a\") as file:  # a-append\n",
        "  file.write(f\"{name}\\n\" )"
      ],
      "metadata": {
        "colab": {
          "base_uri": "https://localhost:8080/"
        },
        "id": "HEgNYlj7bxKZ",
        "outputId": "99d69f55-a037-4d66-eed0-d243d6ef389e"
      },
      "execution_count": null,
      "outputs": [
        {
          "name": "stdout",
          "output_type": "stream",
          "text": [
            "Name: Akida\n"
          ]
        }
      ]
    },
    {
      "cell_type": "code",
      "source": [
        "with open(\"names.txt\", \"r\") as file: # r- read\n",
        "  lines = file.readlines()\n",
        "\n",
        "for line in lines:\n",
        "  print(\"Hello, \", line)"
      ],
      "metadata": {
        "colab": {
          "base_uri": "https://localhost:8080/"
        },
        "id": "gZTHdtS_cM33",
        "outputId": "a17ccbd2-4d92-4119-9dd7-99e38c90089a"
      },
      "execution_count": null,
      "outputs": [
        {
          "output_type": "stream",
          "name": "stdout",
          "text": [
            "Hello,  jamila\n",
            "\n",
            "Hello,  Najiya\n",
            "\n",
            "Hello,  Akida\n",
            "\n"
          ]
        }
      ]
    },
    {
      "cell_type": "code",
      "source": [
        "names = []\n",
        "with open(\"names.txt\", \"r\") as file: # r- read\n",
        "  lines = file.readlines()\n",
        "\n",
        "for line in lines:\n",
        "  print(\"Hello, \", line.rstrip())  # r- row"
      ],
      "metadata": {
        "colab": {
          "base_uri": "https://localhost:8080/"
        },
        "id": "KYsqdpIZdFvX",
        "outputId": "b2fd51ef-1765-47f1-cc2d-06121c30a4b0"
      },
      "execution_count": null,
      "outputs": [
        {
          "output_type": "stream",
          "name": "stdout",
          "text": [
            "Hello,  jamila\n",
            "Hello,  Najiya\n",
            "Hello,  Akida\n"
          ]
        }
      ]
    },
    {
      "cell_type": "code",
      "source": [
        "# CSV: Comma separated value"
      ],
      "metadata": {
        "id": "s_luiWudjxza"
      },
      "execution_count": null,
      "outputs": []
    },
    {
      "cell_type": "code",
      "source": [
        "with open(\"cars.csv\") as file:\n",
        "  for line in file:\n",
        "      row = line.rstrip().split(\",\")\n",
        "      print(f\"{row[0]} is located in {row[1]}\")"
      ],
      "metadata": {
        "colab": {
          "base_uri": "https://localhost:8080/"
        },
        "id": "OSm_7GkQkR0d",
        "outputId": "cbc830d6-8f0f-4c73-f2e5-be98eff0f9a1"
      },
      "execution_count": 57,
      "outputs": [
        {
          "output_type": "stream",
          "name": "stdout",
          "text": [
            "model is located in mpg\n",
            "Mazda RX4 is located in 21\n",
            "Mazda RX4 Wag is located in 21\n",
            "Datsun 710 is located in 22.8\n",
            "Hornet 4 Drive is located in 21.4\n",
            "Hornet Sportabout is located in 18.7\n",
            "Valiant is located in 18.1\n",
            "Duster 360 is located in 14.3\n",
            "Merc 240D is located in 24.4\n",
            "Merc 230 is located in 22.8\n",
            "Merc 280 is located in 19.2\n",
            "Merc 280C is located in 17.8\n",
            "Merc 450SE is located in 16.4\n",
            "Merc 450SL is located in 17.3\n",
            "Merc 450SLC is located in 15.2\n",
            "Cadillac Fleetwood is located in 10.4\n",
            "Lincoln Continental is located in 10.4\n",
            "Chrysler Imperial is located in 14.7\n",
            "Fiat 128 is located in 32.4\n",
            "Honda Civic is located in 30.4\n",
            "Toyota Corolla is located in 33.9\n",
            "Toyota Corona is located in 21.5\n",
            "Dodge Challenger is located in 15.5\n",
            "AMC Javelin is located in 15.2\n",
            "Camaro Z28 is located in 13.3\n",
            "Pontiac Firebird is located in 19.2\n",
            "Fiat X1-9 is located in 27.3\n",
            "Porsche 914-2 is located in 26\n",
            "Lotus Europa is located in 30.4\n",
            "Ford Pantera L is located in 15.8\n",
            "Ferrari Dino is located in 19.7\n",
            "Maserati Bora is located in 15\n",
            "Volvo 142E is located in 21.4\n"
          ]
        }
      ]
    },
    {
      "cell_type": "code",
      "source": [
        "# with open(\"cars.csv\") as file:\n",
        "#   for line in file:\n",
        "#       name = line.rstrip().split(\",\")\n",
        "#       print(f\"{name} is located in {country}\")"
      ],
      "metadata": {
        "id": "psyrvRZFniFX"
      },
      "execution_count": 2,
      "outputs": []
    },
    {
      "cell_type": "code",
      "source": [
        "\n",
        "### Object Oriented Programming\n",
        "name = input(\"name: \")\n",
        "country = input(\"Country: \")\n",
        "print(f\"{name.title()} is from {country.upper()}\")\n"
      ],
      "metadata": {
        "colab": {
          "base_uri": "https://localhost:8080/"
        },
        "id": "jDLNNnEWX_I8",
        "outputId": "25adc1ee-bc89-4408-a85c-32cc0b6d76d0"
      },
      "execution_count": 4,
      "outputs": [
        {
          "output_type": "stream",
          "name": "stdout",
          "text": [
            "name: najiya\n",
            "Country: Usa\n",
            "Najiya is from USA\n"
          ]
        }
      ]
    },
    {
      "cell_type": "code",
      "source": [
        "def main():\n",
        "  name = get_name()\n",
        "  country = get_country()\n",
        "  print(f\"{name.title()} is form {country.upper()}\")\n",
        "\n",
        "def get_name():\n",
        "  return input(\"Name: \")\n",
        "\n",
        "def get_country():\n",
        "  return input(\"Country: \")\n",
        "\n",
        "main()"
      ],
      "metadata": {
        "colab": {
          "base_uri": "https://localhost:8080/"
        },
        "id": "YGS94fygYtzU",
        "outputId": "9e3f2a8c-f3f4-409e-862d-e323e603ab7c"
      },
      "execution_count": 5,
      "outputs": [
        {
          "output_type": "stream",
          "name": "stdout",
          "text": [
            "Name: jamila\n",
            "Country: USA\n",
            "Jamila is form USA\n"
          ]
        }
      ]
    },
    {
      "cell_type": "code",
      "source": [
        "def main():\n",
        "  student = get_student()\n",
        "  print(f\"{student[0].title()} is from {student[1].upper()}\")\n",
        "\n",
        "def get_student():\n",
        "  name= input(\"Name: \")\n",
        "  country = input(\"Country: \")\n",
        "  return (name, country)\n",
        "\n",
        "main()"
      ],
      "metadata": {
        "colab": {
          "base_uri": "https://localhost:8080/"
        },
        "id": "gh-byk4QZgcf",
        "outputId": "5f22291c-830d-4ae4-bc18-450de0d0cd81"
      },
      "execution_count": 8,
      "outputs": [
        {
          "output_type": "stream",
          "name": "stdout",
          "text": [
            "Name: jamila\n",
            "Country: usa\n",
            "Jamila is form USA\n"
          ]
        }
      ]
    },
    {
      "cell_type": "code",
      "source": [
        "def main():\n",
        "  student = get_student()\n",
        "  print(f\"{student['name'].title()} is from {student['country'].upper()}\")\n",
        "\n",
        "def get_student():\n",
        "  student = {}\n",
        "  student['name'] = input(\"Name: \")\n",
        "  student['country']= input(\"Country: \")\n",
        "  return student\n",
        "\n",
        "main()"
      ],
      "metadata": {
        "colab": {
          "base_uri": "https://localhost:8080/"
        },
        "id": "ROMRHwlHb3fj",
        "outputId": "4f51b7f1-1eb2-4e4b-ede8-d8cb82ec4c91"
      },
      "execution_count": 11,
      "outputs": [
        {
          "output_type": "stream",
          "name": "stdout",
          "text": [
            "Name: Akida\n",
            "Country: California\n",
            "Akida is from CALIFORNIA\n"
          ]
        }
      ]
    },
    {
      "cell_type": "code",
      "source": [
        "student = {\"name\": \"Aysajan\", \"country\": \"canada\"}"
      ],
      "metadata": {
        "id": "yqHEZXZYdLmy"
      },
      "execution_count": 12,
      "outputs": []
    },
    {
      "cell_type": "code",
      "source": [
        "print(type(\"aysajan\"))"
      ],
      "metadata": {
        "colab": {
          "base_uri": "https://localhost:8080/"
        },
        "id": "XNV5xwCcdvhs",
        "outputId": "d1f62408-33f5-4c34-addf-fd441b1eead3"
      },
      "execution_count": 13,
      "outputs": [
        {
          "output_type": "stream",
          "name": "stdout",
          "text": [
            "<class 'str'>\n"
          ]
        }
      ]
    },
    {
      "cell_type": "code",
      "source": [],
      "metadata": {
        "id": "3G-taIukjoTD"
      },
      "execution_count": null,
      "outputs": []
    },
    {
      "cell_type": "markdown",
      "source": [
        "Library names, module names, function names, variable names: lower case letters\n",
        "class: Camelcase, meaning the first letter should be capital letter"
      ],
      "metadata": {
        "id": "wBN2y3V5jpN7"
      }
    },
    {
      "cell_type": "code",
      "source": [
        "class Dog:\n",
        "  # Initialize a new object and provide attributes\n",
        "  def __init__(self, name, age): # This is a special method used to iniitialize objects\n",
        "      self.name = name # we can use name as n\n",
        "      self.age = age # we can use age as a\n",
        "  # Method action\n",
        "  def bark(self):\n",
        "    print(f\"{self.name} says woof!\")"
      ],
      "metadata": {
        "id": "ctuPN42Sj_wQ"
      },
      "execution_count": 14,
      "outputs": []
    },
    {
      "cell_type": "code",
      "source": [
        "my_dog = Dog(name = \"buddy\", age= 23) # Create an object of class Dog\n",
        "alice_dog = Dog(name= \"willie\", age = 12)\n",
        "my_dog.bark() # Buddy says woof!\n",
        "alice_dog.bark() # Willie says woof!"
      ],
      "metadata": {
        "colab": {
          "base_uri": "https://localhost:8080/"
        },
        "id": "4XeiT4WUlMHl",
        "outputId": "db04cab3-44de-4a1f-94f9-87cc75d494d2"
      },
      "execution_count": 15,
      "outputs": [
        {
          "output_type": "stream",
          "name": "stdout",
          "text": [
            "buddy says woof!\n",
            "willie says woof!\n"
          ]
        }
      ]
    },
    {
      "cell_type": "code",
      "source": [
        "class Car:\n",
        "  def __init__(self, brand, model, year):\n",
        "    self.brand = brand\n",
        "    self.model= model\n",
        "    self.year = year\n",
        "\n",
        "  def honk(self):\n",
        "    print(f\"The {self.brand} {self.model} {self.year} model says Honk!\")"
      ],
      "metadata": {
        "id": "uqw0OFnNmfiJ"
      },
      "execution_count": 18,
      "outputs": []
    },
    {
      "cell_type": "code",
      "source": [
        "class Car1:\n",
        "  def __init__(self, brand, model, year):\n",
        "    self.brand = brand\n",
        "    self.model= model\n",
        "    self.year = year\n",
        "\n",
        "  def honk(self):\n",
        "    print(f\"The {self.brand} {self.model} {self.year} model says Honk!\")"
      ],
      "metadata": {
        "id": "v3tDXZk7qYJ1"
      },
      "execution_count": 20,
      "outputs": []
    },
    {
      "cell_type": "code",
      "source": [
        "my_car = Car(brand= \"Toyota\", model=\"Rav4\",year= 2015)\n",
        "your_car = Car(brand= \"Honda\", model=\"CRV\",year= 2020)\n",
        "\n",
        "my_car.honk()\n",
        "your_car.honk()"
      ],
      "metadata": {
        "colab": {
          "base_uri": "https://localhost:8080/"
        },
        "id": "4UHWaaI1pT41",
        "outputId": "68827aa4-feba-4816-869a-820bdbe14d2e"
      },
      "execution_count": 19,
      "outputs": [
        {
          "output_type": "stream",
          "name": "stdout",
          "text": [
            "The Toyota Rav4 2015 model says Honk!\n",
            "The Honda CRV 2020 model says Honk!\n"
          ]
        }
      ]
    },
    {
      "cell_type": "code",
      "source": [
        "class DataPoint:\n",
        "  def __init__(self, x, y):\n",
        "    self.x = x\n",
        "    self.y = y"
      ],
      "metadata": {
        "id": "I-kyMAK0sStd"
      },
      "execution_count": 21,
      "outputs": []
    },
    {
      "cell_type": "code",
      "source": [
        "point = DataPoint(x= 2, y= 3) # Create a new object of DataPoint class\n"
      ],
      "metadata": {
        "id": "M2qh4sDTsjTV"
      },
      "execution_count": 22,
      "outputs": []
    },
    {
      "cell_type": "code",
      "source": [
        "print(point.x)\n",
        "print(point.y)"
      ],
      "metadata": {
        "colab": {
          "base_uri": "https://localhost:8080/"
        },
        "id": "A6t342mVsyrz",
        "outputId": "3d822c68-4ec0-4260-a8f7-c8bcfb2509b3"
      },
      "execution_count": 23,
      "outputs": [
        {
          "output_type": "stream",
          "name": "stdout",
          "text": [
            "2\n",
            "3\n"
          ]
        }
      ]
    },
    {
      "cell_type": "code",
      "source": [
        "import math\n",
        "\n",
        "class DataPoint:\n",
        "  def __init__(self, x, y):\n",
        "    self.x = x\n",
        "    self.y = y\n",
        "  def distance(self, othetr_point):\n",
        "    distance = math.sqrt((self.x - othetr_point.x)**2 + (self.y - othetr_point.y)**2)\n",
        "    return distance"
      ],
      "metadata": {
        "id": "6vOfH089s6Lr"
      },
      "execution_count": 24,
      "outputs": []
    },
    {
      "cell_type": "code",
      "source": [
        "point_1 = DataPoint(2,3)\n",
        "point_2 = DataPoint(2,3)\n",
        "print(point_1.distance(point_2))"
      ],
      "metadata": {
        "colab": {
          "base_uri": "https://localhost:8080/"
        },
        "id": "cWBL7fFrwOhN",
        "outputId": "1ee1fed0-0e17-4caa-a1a9-0c25b27ef571"
      },
      "execution_count": 25,
      "outputs": [
        {
          "output_type": "stream",
          "name": "stdout",
          "text": [
            "0.0\n"
          ]
        }
      ]
    },
    {
      "cell_type": "code",
      "source": [
        "import math\n",
        "class DataSet:\n",
        "  def __init__(self,data):\n",
        "    self.data = data\n",
        "\n",
        "  def mean(self):\n",
        "    return sum(self.data) / len(self.data)\n",
        "\n",
        "  def median(self):\n",
        "    sorted_data = sorted(self.data)\n",
        "    n = len(sorted_data)\n",
        "    middle = n //2 # return quotient\n",
        "\n",
        "    if n % 2 == 0:\n",
        "      return (sorted_data[middle -1] + sorted_data[middle]) /2\n",
        "    else:\n",
        "      return sorted_data[middle]"
      ],
      "metadata": {
        "id": "Mvm9A8z9wkf9"
      },
      "execution_count": 38,
      "outputs": []
    },
    {
      "cell_type": "code",
      "source": [
        "ds = DataSet([1,2,3,4,5])\n",
        "\n",
        "print(\"Data\", ds.data)\n",
        "print(\"Mean\", ds.mean())\n",
        "print(\"Data\", ds.median())\n"
      ],
      "metadata": {
        "colab": {
          "base_uri": "https://localhost:8080/"
        },
        "id": "7IIxg5sgzlMM",
        "outputId": "9ba517af-2735-4b82-ffe6-2401d5d3e5cc"
      },
      "execution_count": 39,
      "outputs": [
        {
          "output_type": "stream",
          "name": "stdout",
          "text": [
            "Data [1, 2, 3, 4, 5]\n",
            "Mean 3.0\n",
            "Data 3\n"
          ]
        }
      ]
    },
    {
      "cell_type": "code",
      "source": [
        "class DataFrame(DataSet): # Inheriting from DataSet Class\n",
        "  def __init__(self, data, columns):\n",
        "    super().__init__(data)\n",
        "    self.columns = columns\n",
        "\n",
        "  def column_mean(self, column_name):\n",
        "    if column_name in self.columns:\n",
        "      column_index = self.columns.index(column_name)\n",
        "      column_data = [row[column_index] for row in self.data]\n",
        "      return sum(column_data) / len(column_data)\n",
        "    else:\n",
        "      return None"
      ],
      "metadata": {
        "id": "mcYuXzNM1mam"
      },
      "execution_count": 42,
      "outputs": []
    },
    {
      "cell_type": "code",
      "source": [
        "df = DataFrame([[1,2,3],[4,5,6],[7,8,9]], ['a','b','c'])\n",
        "print(\"Data\", df.data)\n",
        "print(f\"Mean of Column 'b'\", df.column_mean('b'))"
      ],
      "metadata": {
        "colab": {
          "base_uri": "https://localhost:8080/"
        },
        "id": "HQv4as8B3Nqx",
        "outputId": "9f5b1213-e232-4f9d-df62-930c7367bd81"
      },
      "execution_count": 44,
      "outputs": [
        {
          "output_type": "stream",
          "name": "stdout",
          "text": [
            "Data [[1, 2, 3], [4, 5, 6], [7, 8, 9]]\n",
            "Mean of Column 'b' 5.0\n"
          ]
        }
      ]
    }
  ]
}