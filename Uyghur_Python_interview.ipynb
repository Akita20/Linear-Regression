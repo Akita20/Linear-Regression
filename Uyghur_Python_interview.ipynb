{
  "nbformat": 4,
  "nbformat_minor": 0,
  "metadata": {
    "colab": {
      "provenance": [],
      "authorship_tag": "ABX9TyOyD9YKCKMKvnua/nIV8cTt",
      "include_colab_link": true
    },
    "kernelspec": {
      "name": "python3",
      "display_name": "Python 3"
    },
    "language_info": {
      "name": "python"
    }
  },
  "cells": [
    {
      "cell_type": "markdown",
      "metadata": {
        "id": "view-in-github",
        "colab_type": "text"
      },
      "source": [
        "<a href=\"https://colab.research.google.com/github/Akita20/Linear-Regression/blob/main/Uyghur_Python_interview.ipynb\" target=\"_parent\"><img src=\"https://colab.research.google.com/assets/colab-badge.svg\" alt=\"Open In Colab\"/></a>"
      ]
    },
    {
      "cell_type": "code",
      "execution_count": 27,
      "metadata": {
        "id": "JoddJDd_1gU4"
      },
      "outputs": [],
      "source": [
        "from typing import List\n",
        "from collections import Counter, defaultdict"
      ]
    },
    {
      "cell_type": "code",
      "source": [
        "# 1.Counting frequency of array elements\n",
        "nums = [10,20,30,40,50,20,5,20]\n",
        "\n",
        "def freq_count1(nums):\n",
        "  d ={}\n",
        "  for num in nums:\n",
        "    if num not in d:\n",
        "      d[num] =1\n",
        "    else:\n",
        "      d[num] +=1\n",
        "  return [(k,v) for k,v in d.items()]\n",
        "\n",
        "print(freq_count1(nums))"
      ],
      "metadata": {
        "colab": {
          "base_uri": "https://localhost:8080/"
        },
        "id": "YawWxLlA3rKV",
        "outputId": "23e58afd-a0f7-40e8-800b-94684d297243"
      },
      "execution_count": 4,
      "outputs": [
        {
          "output_type": "stream",
          "name": "stdout",
          "text": [
            "[(10, 1), (20, 3), (30, 1), (40, 1), (50, 1), (5, 1)]\n"
          ]
        }
      ]
    },
    {
      "cell_type": "code",
      "source": [
        "def freq_count2(nums):\n",
        "  return Counter(nums).most_common()"
      ],
      "metadata": {
        "id": "q6XvW-MM3rT6"
      },
      "execution_count": 9,
      "outputs": []
    },
    {
      "cell_type": "code",
      "source": [
        "freq_count2(nums)"
      ],
      "metadata": {
        "colab": {
          "base_uri": "https://localhost:8080/"
        },
        "id": "I9d9lwvN7w5f",
        "outputId": "9e3fd87d-0e15-4b37-c83e-cb1073a1289d"
      },
      "execution_count": 10,
      "outputs": [
        {
          "output_type": "execute_result",
          "data": {
            "text/plain": [
              "[(20, 3), (10, 1), (30, 1), (40, 1), (50, 1), (5, 1)]"
            ]
          },
          "metadata": {},
          "execution_count": 10
        }
      ]
    },
    {
      "cell_type": "code",
      "source": [
        "f = { 'paragraph1':'''why we developed our extension to block pop-ups, annoying ads, and other distractions across the web.\n",
        "    AdBlock helps you to browse the web faster, safer, and with more control over your internet experience.\n",
        "    'paragraph2':AdBlock Premium gives you an even better browsing experience when you block additional pop-ups.\n",
        "    This feature allows you to stop most videos from playing automatically while preventing floating\n",
        "    or “sticky” videos that follow you across the screen as you browse.\n",
        "    And you can block pop-ups for newsletter sign-ups, survey invitations,\n",
        "    and requests to “allow site notifications.” Enjoy browsing the web with AdBlock Premium!'''}"
      ],
      "metadata": {
        "id": "8QKz36tFBkMc"
      },
      "execution_count": 31,
      "outputs": []
    },
    {
      "cell_type": "code",
      "source": [
        "s=\"\"\n",
        "for i in f.values():\n",
        "  s +=i\n",
        "s\n"
      ],
      "metadata": {
        "colab": {
          "base_uri": "https://localhost:8080/",
          "height": 107
        },
        "id": "JGJi_VBGEOeW",
        "outputId": "b7d3b193-6ca7-47c0-bed7-76c4f2f1b74e"
      },
      "execution_count": 33,
      "outputs": [
        {
          "output_type": "execute_result",
          "data": {
            "text/plain": [
              "\"why we developed our extension to block pop-ups, annoying ads, and other distractions across the web.\\n    AdBlock helps you to browse the web faster, safer, and with more control over your internet experience.\\n    'paragraph2':AdBlock Premium gives you an even better browsing experience when you block additional pop-ups.\\n    This feature allows you to stop most videos from playing automatically while preventing floating\\n    or “sticky” videos that follow you across the screen as you browse.\\n    And you can block pop-ups for newsletter sign-ups, survey invitations, \\n    and requests to “allow site notifications.” Enjoy browsing the web with AdBlock Premium!\""
            ],
            "application/vnd.google.colaboratory.intrinsic+json": {
              "type": "string"
            }
          },
          "metadata": {},
          "execution_count": 33
        }
      ]
    },
    {
      "cell_type": "code",
      "source": [
        "# 2.Real Interview question\n",
        "from os import stat_result\n",
        "# str(f.values())\n",
        "def CountWord(f):\n",
        "  strs = \"\"\n",
        "  for i in f.values():\n",
        "    strs +=i\n",
        "\n",
        "  s = ''.join([c.lower() if c.isalnum() else ' ' for c in strs])\n",
        "\n",
        "  words = s.split()\n",
        "\n",
        "  word_counts= Counter(words)\n",
        "\n",
        "  return word_counts.most_common(5)\n"
      ],
      "metadata": {
        "id": "PLzzCSCn-gnp"
      },
      "execution_count": 48,
      "outputs": []
    },
    {
      "cell_type": "code",
      "source": [
        "str(f.values())"
      ],
      "metadata": {
        "colab": {
          "base_uri": "https://localhost:8080/",
          "height": 125
        },
        "id": "RxB-ScA8EDes",
        "outputId": "b220f9e6-af9c-43dd-84e8-b40674111186"
      },
      "execution_count": 49,
      "outputs": [
        {
          "output_type": "execute_result",
          "data": {
            "text/plain": [
              "'dict_values([\"why we developed our extension to block pop-ups, annoying ads, and other distractions across the web.\\\\n    AdBlock helps you to browse the web faster, safer, and with more control over your internet experience.\\\\n    \\'paragraph2\\':AdBlock Premium gives you an even better browsing experience when you block additional pop-ups.\\\\n    This feature allows you to stop most videos from playing automatically while preventing floating\\\\n    or “sticky” videos that follow you across the screen as you browse.\\\\n    And you can block pop-ups for newsletter sign-ups, survey invitations, \\\\n    and requests to “allow site notifications.” Enjoy browsing the web with AdBlock Premium!\"])'"
            ],
            "application/vnd.google.colaboratory.intrinsic+json": {
              "type": "string"
            }
          },
          "metadata": {},
          "execution_count": 49
        }
      ]
    },
    {
      "cell_type": "code",
      "source": [
        "s = ''.join([c.lower() if c.isalnum() else ' ' for c in str(f.values())])\n",
        "\n",
        "s.split()"
      ],
      "metadata": {
        "colab": {
          "base_uri": "https://localhost:8080/"
        },
        "id": "9a3L3svMD1cR",
        "outputId": "20925a89-a08e-47cb-cd97-2b58776fc0cd"
      },
      "execution_count": 50,
      "outputs": [
        {
          "output_type": "execute_result",
          "data": {
            "text/plain": [
              "['dict',\n",
              " 'values',\n",
              " 'why',\n",
              " 'we',\n",
              " 'developed',\n",
              " 'our',\n",
              " 'extension',\n",
              " 'to',\n",
              " 'block',\n",
              " 'pop',\n",
              " 'ups',\n",
              " 'annoying',\n",
              " 'ads',\n",
              " 'and',\n",
              " 'other',\n",
              " 'distractions',\n",
              " 'across',\n",
              " 'the',\n",
              " 'web',\n",
              " 'n',\n",
              " 'adblock',\n",
              " 'helps',\n",
              " 'you',\n",
              " 'to',\n",
              " 'browse',\n",
              " 'the',\n",
              " 'web',\n",
              " 'faster',\n",
              " 'safer',\n",
              " 'and',\n",
              " 'with',\n",
              " 'more',\n",
              " 'control',\n",
              " 'over',\n",
              " 'your',\n",
              " 'internet',\n",
              " 'experience',\n",
              " 'n',\n",
              " 'paragraph2',\n",
              " 'adblock',\n",
              " 'premium',\n",
              " 'gives',\n",
              " 'you',\n",
              " 'an',\n",
              " 'even',\n",
              " 'better',\n",
              " 'browsing',\n",
              " 'experience',\n",
              " 'when',\n",
              " 'you',\n",
              " 'block',\n",
              " 'additional',\n",
              " 'pop',\n",
              " 'ups',\n",
              " 'n',\n",
              " 'this',\n",
              " 'feature',\n",
              " 'allows',\n",
              " 'you',\n",
              " 'to',\n",
              " 'stop',\n",
              " 'most',\n",
              " 'videos',\n",
              " 'from',\n",
              " 'playing',\n",
              " 'automatically',\n",
              " 'while',\n",
              " 'preventing',\n",
              " 'floating',\n",
              " 'n',\n",
              " 'or',\n",
              " 'sticky',\n",
              " 'videos',\n",
              " 'that',\n",
              " 'follow',\n",
              " 'you',\n",
              " 'across',\n",
              " 'the',\n",
              " 'screen',\n",
              " 'as',\n",
              " 'you',\n",
              " 'browse',\n",
              " 'n',\n",
              " 'and',\n",
              " 'you',\n",
              " 'can',\n",
              " 'block',\n",
              " 'pop',\n",
              " 'ups',\n",
              " 'for',\n",
              " 'newsletter',\n",
              " 'sign',\n",
              " 'ups',\n",
              " 'survey',\n",
              " 'invitations',\n",
              " 'n',\n",
              " 'and',\n",
              " 'requests',\n",
              " 'to',\n",
              " 'allow',\n",
              " 'site',\n",
              " 'notifications',\n",
              " 'enjoy',\n",
              " 'browsing',\n",
              " 'the',\n",
              " 'web',\n",
              " 'with',\n",
              " 'adblock',\n",
              " 'premium']"
            ]
          },
          "metadata": {},
          "execution_count": 50
        }
      ]
    },
    {
      "cell_type": "code",
      "source": [
        "f = { 'paragraph1':'''why we developed our extension to block pop-ups, annoying ads, and other distractions across the web.\n",
        "    AdBlock helps you to browse the web faster, safer, and with more control over your internet experience.\n",
        "    'paragraph2':AdBlock Premium gives you an even better browsing experience when you block additional pop-ups.\n",
        "    This feature allows you to stop most videos from playing automatically while preventing floating\n",
        "    or “sticky” videos that follow you across the screen as you browse.\n",
        "    And you can block pop-ups for newsletter sign-ups, survey invitations,\n",
        "    and requests to “allow site notifications.” Enjoy browsing the web with AdBlock Premium!'''}"
      ],
      "metadata": {
        "id": "CMtc7q_t3rYM"
      },
      "execution_count": 40,
      "outputs": []
    },
    {
      "cell_type": "code",
      "source": [
        "s = \"\"\n",
        "for i in f.values():\n",
        "  s += i\n",
        "s"
      ],
      "metadata": {
        "colab": {
          "base_uri": "https://localhost:8080/",
          "height": 107
        },
        "id": "cy-bMcRU-cpY",
        "outputId": "9598efb6-8cb9-4f2a-fab6-5679a9ef11ec"
      },
      "execution_count": 51,
      "outputs": [
        {
          "output_type": "execute_result",
          "data": {
            "text/plain": [
              "\"why we developed our extension to block pop-ups, annoying ads, and other distractions across the web.\\n    AdBlock helps you to browse the web faster, safer, and with more control over your internet experience.\\n    'paragraph2':AdBlock Premium gives you an even better browsing experience when you block additional pop-ups.\\n    This feature allows you to stop most videos from playing automatically while preventing floating\\n    or “sticky” videos that follow you across the screen as you browse.\\n    And you can block pop-ups for newsletter sign-ups, survey invitations, \\n    and requests to “allow site notifications.” Enjoy browsing the web with AdBlock Premium!\""
            ],
            "application/vnd.google.colaboratory.intrinsic+json": {
              "type": "string"
            }
          },
          "metadata": {},
          "execution_count": 51
        }
      ]
    },
    {
      "cell_type": "code",
      "source": [
        "print(CountWord(f))"
      ],
      "metadata": {
        "colab": {
          "base_uri": "https://localhost:8080/"
        },
        "id": "I6amD53zDN9D",
        "outputId": "f23b5ad0-97e4-4533-ebf8-ab4a9702d459"
      },
      "execution_count": 52,
      "outputs": [
        {
          "output_type": "stream",
          "name": "stdout",
          "text": [
            "[('you', 7), ('to', 4), ('ups', 4), ('and', 4), ('the', 4)]\n"
          ]
        }
      ]
    },
    {
      "cell_type": "code",
      "source": [
        "# 3.Merge String Alternately\n",
        "word1 = \"abc\"\n",
        "word2 = 'bqr'"
      ],
      "metadata": {
        "id": "8KCK3cAN3rbZ"
      },
      "execution_count": 54,
      "outputs": []
    },
    {
      "cell_type": "code",
      "source": [
        "def mergedWords(word1,word2):\n",
        "  n = max(len(word1),len(word2))\n",
        "  result =[]\n",
        "\n",
        "  for i in range(n):\n",
        "    if i <len(word1):\n",
        "      result.append(word1[i])\n",
        "    if i <len(word2):\n",
        "      result.append(word2[i])\n",
        "  return ''.join(result)"
      ],
      "metadata": {
        "id": "cckaPlsU3rd_"
      },
      "execution_count": 55,
      "outputs": []
    },
    {
      "cell_type": "code",
      "source": [
        "print(mergedWords(word1,word2))"
      ],
      "metadata": {
        "colab": {
          "base_uri": "https://localhost:8080/"
        },
        "id": "z_kqVW4s3rkR",
        "outputId": "5c7cb9f1-c931-44a5-a102-0fa0e30104c5"
      },
      "execution_count": 56,
      "outputs": [
        {
          "output_type": "stream",
          "name": "stdout",
          "text": [
            "abbqcr\n"
          ]
        }
      ]
    },
    {
      "cell_type": "code",
      "source": [
        "# 4.Reverse String\n",
        "\n",
        "def reverseString(s):\n",
        "  left,right = 0,len(s)-1\n",
        "\n",
        "  while left < right:\n",
        "    s[left], s[right] = s[right],s[left]\n",
        "    left, right = left+1, right-1\n",
        "\n"
      ],
      "metadata": {
        "id": "yjLWhOVX3rpW"
      },
      "execution_count": 58,
      "outputs": []
    },
    {
      "cell_type": "code",
      "source": [
        "s2 = ['a','b','c','d','g']\n",
        "s2= s2[::-1]\n",
        "s2"
      ],
      "metadata": {
        "colab": {
          "base_uri": "https://localhost:8080/"
        },
        "id": "xNw8wVY53rqi",
        "outputId": "c9f73cd1-3de4-421b-80d9-acf06855cc1f"
      },
      "execution_count": 62,
      "outputs": [
        {
          "output_type": "execute_result",
          "data": {
            "text/plain": [
              "['g', 'd', 'c', 'b', 'a']"
            ]
          },
          "metadata": {},
          "execution_count": 62
        }
      ]
    },
    {
      "cell_type": "code",
      "source": [
        "s1 = ['h','n','a','n','a','H']\n",
        "reverseString(s1)\n",
        "print(s1)"
      ],
      "metadata": {
        "colab": {
          "base_uri": "https://localhost:8080/"
        },
        "id": "gDYrUhT-3rsP",
        "outputId": "64119bc0-46ec-4d8b-e944-6aa7f95eaa66"
      },
      "execution_count": 63,
      "outputs": [
        {
          "output_type": "stream",
          "name": "stdout",
          "text": [
            "['H', 'a', 'n', 'a', 'n', 'h']\n"
          ]
        }
      ]
    },
    {
      "cell_type": "code",
      "source": [
        "# 5. Valid Parantethies"
      ],
      "metadata": {
        "id": "dasC-e1M3sIj"
      },
      "execution_count": null,
      "outputs": []
    },
    {
      "cell_type": "code",
      "source": [
        "from inspect import stack\n",
        "def isValid(s): # return boolean\n",
        "  d = { ')':'(',\n",
        "       ']':'[',\n",
        "        '}':'{'\n",
        "        }\n",
        "  stack =[] # only have opening brakets\n",
        "\n",
        "  for char in s:  # c is closing brackets\n",
        "    if char in d:\n",
        "      elem = stack.pop()\n",
        "      if elem != d[char]:\n",
        "        return False\n",
        "    else:\n",
        "      stack.append(char)\n",
        "\n",
        "  return not stack"
      ],
      "metadata": {
        "id": "9iiP8U-O3sL6"
      },
      "execution_count": 65,
      "outputs": []
    },
    {
      "cell_type": "code",
      "source": [
        "s = \"()[]{}\"\n",
        "isValid(s)\n"
      ],
      "metadata": {
        "colab": {
          "base_uri": "https://localhost:8080/"
        },
        "id": "CR3OTYXO3sP8",
        "outputId": "6c05ddbc-106f-40ba-c31a-86776257f38c"
      },
      "execution_count": 67,
      "outputs": [
        {
          "output_type": "execute_result",
          "data": {
            "text/plain": [
              "True"
            ]
          },
          "metadata": {},
          "execution_count": 67
        }
      ]
    },
    {
      "cell_type": "code",
      "source": [
        "# 6. unique number of occurance\n",
        "\n",
        "# arr = [1,2,3,2,1,1]\n",
        "def uniqueOccurrences(arr):\n",
        "  d = defaultdict(int)\n",
        "  for num in arr:\n",
        "    d[num] +=1\n",
        "  return len(d.values()) == len(set(d.values()))"
      ],
      "metadata": {
        "id": "0FrolJzMobhB"
      },
      "execution_count": 101,
      "outputs": []
    },
    {
      "cell_type": "code",
      "source": [
        "arr = [1,2,3,2,1,1]\n",
        "uniqueOccurrences(arr)"
      ],
      "metadata": {
        "colab": {
          "base_uri": "https://localhost:8080/"
        },
        "id": "aSmp4_qmobdM",
        "outputId": "3e6c9b46-3b18-486f-b865-7f6aa4278fb9"
      },
      "execution_count": 102,
      "outputs": [
        {
          "output_type": "execute_result",
          "data": {
            "text/plain": [
              "True"
            ]
          },
          "metadata": {},
          "execution_count": 102
        }
      ]
    },
    {
      "cell_type": "code",
      "source": [
        "arr1 = [1,1,2,2]\n",
        "uniqueOccurrences(arr1)"
      ],
      "metadata": {
        "colab": {
          "base_uri": "https://localhost:8080/"
        },
        "id": "f8VRsL1iobEU",
        "outputId": "9dfbfddb-928a-4f00-8287-3f04d87fda1d"
      },
      "execution_count": 103,
      "outputs": [
        {
          "output_type": "execute_result",
          "data": {
            "text/plain": [
              "False"
            ]
          },
          "metadata": {},
          "execution_count": 103
        }
      ]
    },
    {
      "cell_type": "code",
      "source": [
        "arr2 = [1,2,3,4,4,4]\n",
        "uniqueOccurrences(arr1)"
      ],
      "metadata": {
        "colab": {
          "base_uri": "https://localhost:8080/"
        },
        "id": "oN_rXh4Ys-nE",
        "outputId": "224a5d05-2be0-4e19-d1c8-edfecb40b2f1"
      },
      "execution_count": 104,
      "outputs": [
        {
          "output_type": "execute_result",
          "data": {
            "text/plain": [
              "False"
            ]
          },
          "metadata": {},
          "execution_count": 104
        }
      ]
    },
    {
      "cell_type": "code",
      "source": [
        "# 7. Longest Common Prefix\n",
        "# write a function to find a longest common prefix string\n",
        "\n",
        "def longestCommonPrefix(strs):\n",
        "  if not strs:\n",
        "    return \"\"\n",
        "\n",
        "  prefix = strs[0]\n",
        "\n",
        "  for word in strs[1:]:\n",
        "    i= 0\n",
        "    while i < len(word) and i < len(prefix) and word[i] == prefix[i]:\n",
        "      i +=1\n",
        "    prefix =prefix[:i]\n",
        "\n",
        "  return prefix\n",
        "\n",
        "  ## big O notation\n",
        "  ## time complexity: worst case O(n x m). best case O(n) , average case O(n)\n",
        "  ## space complexity: O(m) m is max length of word in that list"
      ],
      "metadata": {
        "id": "_8mGhTcjrarE"
      },
      "execution_count": 106,
      "outputs": []
    },
    {
      "cell_type": "code",
      "source": [
        "strs = ['flower','flow','flight']\n",
        "longestCommonPrefix(strs)"
      ],
      "metadata": {
        "colab": {
          "base_uri": "https://localhost:8080/",
          "height": 35
        },
        "id": "Tt61jeEWravD",
        "outputId": "e06c76fb-882b-47c9-cb89-29bcd494c01b"
      },
      "execution_count": 107,
      "outputs": [
        {
          "output_type": "execute_result",
          "data": {
            "text/plain": [
              "'fl'"
            ],
            "application/vnd.google.colaboratory.intrinsic+json": {
              "type": "string"
            }
          },
          "metadata": {},
          "execution_count": 107
        }
      ]
    },
    {
      "cell_type": "code",
      "source": [
        "# 9 . two sum\n"
      ],
      "metadata": {
        "id": "mOmtw2h5ray3"
      },
      "execution_count": null,
      "outputs": []
    },
    {
      "cell_type": "code",
      "source": [
        "# 10. Roman to integer\n",
        "# Roman numbers"
      ],
      "metadata": {
        "id": "jGCcX9Ou5jYf"
      },
      "execution_count": null,
      "outputs": []
    },
    {
      "cell_type": "code",
      "source": [
        "# 11. Merge Intervals\n",
        "\n",
        "def merge(intervals):\n",
        "  intervals.sort(key = lambda x: x[0])\n",
        "\n",
        "  result= []\n",
        "  for interval in intervals:\n",
        "    if result and interval[0] <= result[-1][1]:\n",
        "      result[-1][1]= max(result[-1][1],interval[1])\n",
        "    else:\n",
        "      result.append(interval)\n",
        "  return result\n",
        "\n",
        "\n"
      ],
      "metadata": {
        "id": "VCiWX1Rura2d"
      },
      "execution_count": 116,
      "outputs": []
    },
    {
      "cell_type": "code",
      "source": [
        "intervals = [[1,3],[2,6],[8,10],[15,18]]\n",
        "merge(intervals)"
      ],
      "metadata": {
        "colab": {
          "base_uri": "https://localhost:8080/"
        },
        "id": "pIt1ihTqrbFT",
        "outputId": "ea77d7e6-d517-40a5-f2c7-e973fd561cc2"
      },
      "execution_count": 117,
      "outputs": [
        {
          "output_type": "execute_result",
          "data": {
            "text/plain": [
              "[[1, 6], [8, 10], [15, 18]]"
            ]
          },
          "metadata": {},
          "execution_count": 117
        }
      ]
    },
    {
      "cell_type": "code",
      "source": [
        "# 12. sort array"
      ],
      "metadata": {
        "id": "YVd1mzCxBCFw"
      },
      "execution_count": null,
      "outputs": []
    },
    {
      "cell_type": "code",
      "source": [],
      "metadata": {
        "id": "kaY70_9-BFsB"
      },
      "execution_count": null,
      "outputs": []
    },
    {
      "cell_type": "code",
      "source": [
        "# 14. Group Anagrams -- rearrange word or phrase\n",
        "\n",
        "def groupAnagrams(strs):\n",
        "  d = defaultdict(list)\n",
        "\n",
        "  for s in strs:\n",
        "    d [''.join(sorted(s))].append(s)\n",
        "\n",
        "  return list(d.values())\n",
        "      # list is not hashable\n"
      ],
      "metadata": {
        "id": "bB1zKqlrBF5C"
      },
      "execution_count": 119,
      "outputs": []
    },
    {
      "cell_type": "code",
      "source": [
        "strs = ['eat','tea','tan','ate','nat','bat']\n",
        "groupAnagrams(strs)"
      ],
      "metadata": {
        "colab": {
          "base_uri": "https://localhost:8080/"
        },
        "id": "l5v-EsW4BGB-",
        "outputId": "ee9bd581-6c8f-46b1-e0f8-669faf339a1c"
      },
      "execution_count": 120,
      "outputs": [
        {
          "output_type": "execute_result",
          "data": {
            "text/plain": [
              "[['eat', 'tea', 'ate'], ['tan', 'nat'], ['bat']]"
            ]
          },
          "metadata": {},
          "execution_count": 120
        }
      ]
    },
    {
      "cell_type": "code",
      "source": [
        "from ctypes import Structure\n",
        "# from typeshed import Self\n",
        "# 18. Design stack data structure\n",
        "\n",
        "class Stack:\n",
        "  \"\"\"\n",
        "  this is class to implement data Structure\n",
        "  \"\"\"\n",
        "  def __init__(self):\n",
        "    self.items = []\n",
        "\n",
        "  def push(self, item):\n",
        "    self.items.append(item)\n",
        "\n",
        "  def pop(self):\n",
        "    return self.items.pop()\n",
        "\n",
        "  def isEmpty(self):\n",
        "    return len(self.items) == 0\n",
        "\n",
        "  def size(self):\n",
        "    return len(self.items)\n",
        "\n",
        "  def __iter__(self):\n",
        "    return iter(self.items)"
      ],
      "metadata": {
        "id": "rBkM4HNVeDN8"
      },
      "execution_count": 76,
      "outputs": []
    },
    {
      "cell_type": "code",
      "source": [
        "stack = Stack()\n",
        "stack.push('Red')\n",
        "stack.push('Green')\n",
        "stack.push('blue')\n",
        "stack.push('Yellow')\n",
        "print(stack)"
      ],
      "metadata": {
        "colab": {
          "base_uri": "https://localhost:8080/"
        },
        "id": "IZWw7k2kgMmx",
        "outputId": "65d82947-3c57-463f-fea7-df4ff1c392b9"
      },
      "execution_count": 85,
      "outputs": [
        {
          "output_type": "stream",
          "name": "stdout",
          "text": [
            "<__main__.Stack object at 0x7a236c8c9630>\n"
          ]
        }
      ]
    },
    {
      "cell_type": "code",
      "source": [
        "[i for i in stack]"
      ],
      "metadata": {
        "colab": {
          "base_uri": "https://localhost:8080/"
        },
        "id": "yfFDHVaegnvS",
        "outputId": "7e485d30-9f54-4835-ab90-69a1be6852d7"
      },
      "execution_count": 86,
      "outputs": [
        {
          "output_type": "execute_result",
          "data": {
            "text/plain": [
              "['Red', 'Green', 'blue', 'Yellow']"
            ]
          },
          "metadata": {},
          "execution_count": 86
        }
      ]
    },
    {
      "cell_type": "code",
      "source": [
        "# stack = Stack()\n",
        "stack.pop()\n",
        "# stack.pop()\n",
        "# stack.pop()\n",
        "# stack.push('Yellow')\n",
        "print(stack)"
      ],
      "metadata": {
        "colab": {
          "base_uri": "https://localhost:8080/"
        },
        "id": "eKQgEj1hievL",
        "outputId": "7eb76bf0-cacd-4b3d-e668-b66483bfba0a"
      },
      "execution_count": 87,
      "outputs": [
        {
          "output_type": "stream",
          "name": "stdout",
          "text": [
            "<__main__.Stack object at 0x7a236c8c9630>\n"
          ]
        }
      ]
    },
    {
      "cell_type": "code",
      "source": [
        "[i for i in stack]"
      ],
      "metadata": {
        "colab": {
          "base_uri": "https://localhost:8080/"
        },
        "id": "qFiQWJRDjDMk",
        "outputId": "5d23b4bc-71e5-4593-9ac6-05f3d6319cd7"
      },
      "execution_count": 88,
      "outputs": [
        {
          "output_type": "execute_result",
          "data": {
            "text/plain": [
              "['Red', 'Green', 'blue']"
            ]
          },
          "metadata": {},
          "execution_count": 88
        }
      ]
    },
    {
      "cell_type": "code",
      "source": [
        "stack.isEmpty()"
      ],
      "metadata": {
        "colab": {
          "base_uri": "https://localhost:8080/"
        },
        "id": "23dt3R7zkAMt",
        "outputId": "0c2161a2-11ee-4ce9-cbe2-f16c368235c4"
      },
      "execution_count": 89,
      "outputs": [
        {
          "output_type": "execute_result",
          "data": {
            "text/plain": [
              "False"
            ]
          },
          "metadata": {},
          "execution_count": 89
        }
      ]
    },
    {
      "cell_type": "code",
      "source": [
        "stack.size()"
      ],
      "metadata": {
        "colab": {
          "base_uri": "https://localhost:8080/"
        },
        "id": "OIWxf2wnkNF4",
        "outputId": "edf48729-ab3c-4ea3-b048-7e4474309470"
      },
      "execution_count": 90,
      "outputs": [
        {
          "output_type": "execute_result",
          "data": {
            "text/plain": [
              "3"
            ]
          },
          "metadata": {},
          "execution_count": 90
        }
      ]
    },
    {
      "cell_type": "code",
      "source": [
        "# 19. Design Queue data structure\n",
        "\n",
        "class Queue:\n",
        "  def __init__(self): # create variable\n",
        "    self.queue = []\n",
        "\n",
        "  def enqueue(self, x):  # insert element first position\n",
        "    self.queue.insert(0,x)\n",
        "\n",
        "  def dequeue(self):  #\n",
        "    if self.queue:\n",
        "      return self.queue.pop()\n",
        "    return None\n",
        "\n",
        "  def top(self):\n",
        "    return self.queue(-1)\n",
        "\n",
        "  def isEmpty(self):\n",
        "    return len(self.queue) == 0\n",
        "\n",
        "  def size(self):\n",
        "    return len(self.queue)\n",
        "\n",
        "  def __iter__(self):\n",
        "    return iter(self.queue)\n"
      ],
      "metadata": {
        "id": "IddKzeIOkNCF"
      },
      "execution_count": 97,
      "outputs": []
    },
    {
      "cell_type": "code",
      "source": [
        "q = Queue()\n",
        "q.enqueue(4)\n",
        "q.enqueue(5)\n",
        "q.enqueue('dog')\n",
        "q.enqueue('cat')\n",
        "print(q.queue)\n"
      ],
      "metadata": {
        "colab": {
          "base_uri": "https://localhost:8080/"
        },
        "id": "LeCOHL1NkM-l",
        "outputId": "f94b4449-cfbe-4334-eaf6-2adc16e31955"
      },
      "execution_count": 98,
      "outputs": [
        {
          "output_type": "stream",
          "name": "stdout",
          "text": [
            "['cat', 'dog', 5, 4]\n"
          ]
        }
      ]
    },
    {
      "cell_type": "code",
      "source": [],
      "metadata": {
        "id": "ucOYoJlAkM7Z"
      },
      "execution_count": null,
      "outputs": []
    },
    {
      "cell_type": "code",
      "source": [],
      "metadata": {
        "id": "5gQxgnERkMxU"
      },
      "execution_count": null,
      "outputs": []
    },
    {
      "cell_type": "code",
      "source": [],
      "metadata": {
        "id": "kd6GiUJLkMtf"
      },
      "execution_count": null,
      "outputs": []
    },
    {
      "cell_type": "code",
      "source": [],
      "metadata": {
        "id": "QevTllQKkMhs"
      },
      "execution_count": null,
      "outputs": []
    }
  ]
}