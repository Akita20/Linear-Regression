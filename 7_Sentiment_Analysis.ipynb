{
  "cells": [
    {
      "cell_type": "markdown",
      "metadata": {
        "id": "view-in-github",
        "colab_type": "text"
      },
      "source": [
        "<a href=\"https://colab.research.google.com/github/Akita20/Linear-Regression/blob/main/7_Sentiment_Analysis.ipynb\" target=\"_parent\"><img src=\"https://colab.research.google.com/assets/colab-badge.svg\" alt=\"Open In Colab\"/></a>"
      ]
    },
    {
      "cell_type": "markdown",
      "metadata": {
        "id": "KTch0CXhBdi0"
      },
      "source": [
        "### Sentiment Analysis"
      ]
    },
    {
      "cell_type": "markdown",
      "metadata": {
        "id": "B38mY_RmBdi2"
      },
      "source": [
        "In Natural Language Processing there is a concept known as Sentiment Analysis.\n",
        "\n",
        "Given a movie review or a tweet, it can be automatically classified in categories.\n",
        "\n",
        "These categories can be user defined (positive, negative) or whichever classes you want.\n"
      ]
    },
    {
      "cell_type": "markdown",
      "metadata": {
        "id": "Jyrl0nFaBdi3"
      },
      "source": [
        "![image.png](attachment:image.png)"
      ]
    },
    {
      "cell_type": "markdown",
      "metadata": {
        "id": "joZb3Qp9Bdi3"
      },
      "source": [
        "## Sentiment Analysis Example"
      ]
    },
    {
      "cell_type": "markdown",
      "metadata": {
        "id": "krKYDv63Bdi3"
      },
      "source": [
        "Classification is done using several steps: training and prediction.\n",
        "\n",
        "The training phase needs to have training data, this is example data in which we define examples.\n",
        "\n",
        "The classifier will use the training data to make predictions.\n",
        "\n"
      ]
    },
    {
      "cell_type": "markdown",
      "metadata": {
        "id": "gGXZfV6MBdi3"
      },
      "source": [
        "![image.png](attachment:image.png)"
      ]
    },
    {
      "cell_type": "markdown",
      "metadata": {
        "id": "IDY_yXnZBdi3"
      },
      "source": [
        "sentiment analysis, example runs\n",
        "\n",
        "We start by defining 3 classes: positive, negative and neutral.\n",
        "\n",
        "Each of these is defined by a vocabulary:"
      ]
    },
    {
      "cell_type": "code",
      "execution_count": null,
      "metadata": {
        "id": "d6roumTfBdi4"
      },
      "outputs": [],
      "source": [
        "positive_vocab = [ 'awesome', 'outstanding', 'fantastic', 'terrific', 'good', 'nice', 'great', ':)' ]\n",
        "negative_vocab = [ 'bad', 'terrible','useless', 'hate', ':(' ]\n",
        "neutral_vocab = [ 'movie','the','sound','was','is','actors','did','know','words','not' ]"
      ]
    },
    {
      "cell_type": "markdown",
      "metadata": {
        "id": "wk7RixJMBdi5"
      },
      "source": [
        "Every word is converted into a feature using a simplified bag of words model:"
      ]
    },
    {
      "cell_type": "code",
      "execution_count": null,
      "metadata": {
        "id": "6E-jTSETBdi6"
      },
      "outputs": [],
      "source": [
        "def word_feats(words):\n",
        "    return dict([(word, True) for word in words])"
      ]
    },
    {
      "cell_type": "code",
      "execution_count": null,
      "metadata": {
        "id": "6cZh2K5wBdi6"
      },
      "outputs": [],
      "source": [
        "positive_features = [(word_feats(pos), 'pos') for pos in positive_vocab]\n",
        "negative_features = [(word_feats(neg), 'neg') for neg in negative_vocab]\n",
        "neutral_features = [(word_feats(neu), 'neu') for neu in neutral_vocab]"
      ]
    },
    {
      "cell_type": "markdown",
      "metadata": {
        "id": "tyOMbPKRBdi7"
      },
      "source": [
        "Our training set is then the sum of these three feature sets:"
      ]
    },
    {
      "cell_type": "code",
      "execution_count": null,
      "metadata": {
        "id": "k4iXcDGzBdi7"
      },
      "outputs": [],
      "source": [
        "train_set = negative_features + positive_features + neutral_features"
      ]
    },
    {
      "cell_type": "markdown",
      "metadata": {
        "id": "hTgtJLveBdi8"
      },
      "source": [
        "We train the classifier:"
      ]
    },
    {
      "cell_type": "code",
      "execution_count": null,
      "metadata": {
        "id": "apeqy2DwBdi8"
      },
      "outputs": [],
      "source": [
        "# classifier = NaiveBayesClassifier.train(train_set)"
      ]
    },
    {
      "cell_type": "code",
      "execution_count": null,
      "metadata": {
        "id": "l_xRVCL3Bdi_"
      },
      "outputs": [],
      "source": [
        "#And make predictions."
      ]
    },
    {
      "cell_type": "code",
      "execution_count": null,
      "metadata": {
        "id": "PWequNJdBdjA"
      },
      "outputs": [],
      "source": [
        "# Code example\n",
        "# This example classifies sentences according to the training set."
      ]
    },
    {
      "cell_type": "code",
      "execution_count": null,
      "metadata": {
        "id": "NQNL5e_4BdjA",
        "outputId": "e2f1cd90-2f3d-4596-cdf3-95483df9c166",
        "colab": {
          "base_uri": "https://localhost:8080/"
        }
      },
      "outputs": [
        {
          "output_type": "stream",
          "name": "stdout",
          "text": [
            "Positive: 0.6\n",
            "Negative: 0.2\n"
          ]
        }
      ],
      "source": [
        "import nltk.classify.util\n",
        "from nltk.classify import NaiveBayesClassifier\n",
        "from nltk.corpus import names\n",
        "\n",
        "def word_feats(words):\n",
        "    return dict([(word, True) for word in words])\n",
        "\n",
        "positive_vocab = [ 'awesome', 'outstanding', 'fantastic', 'terrific', 'good', 'nice', 'great', ':)' ]\n",
        "negative_vocab = [ 'bad', 'terrible','useless', 'hate', ':(' ]\n",
        "neutral_vocab = [ 'movie','the','sound','was','is','actors','did','know','words','not' ]\n",
        "\n",
        "positive_features = [(word_feats(pos), 'pos') for pos in positive_vocab]\n",
        "negative_features = [(word_feats(neg), 'neg') for neg in negative_vocab]\n",
        "neutral_features = [(word_feats(neu), 'neu') for neu in neutral_vocab]\n",
        "\n",
        "train_set = negative_features + positive_features + neutral_features\n",
        "\n",
        "classifier = NaiveBayesClassifier.train(train_set)\n",
        "\n",
        "# Predict\n",
        "neg = 0\n",
        "pos = 0\n",
        "sentence = \"Awesome movie, I liked it\"\n",
        "sentence = sentence.lower()\n",
        "words = sentence.split(' ')\n",
        "for word in words:\n",
        "    classResult = classifier.classify( word_feats(word))\n",
        "    if classResult == 'neg':\n",
        "        neg = neg + 1\n",
        "    if classResult == 'pos':\n",
        "        pos = pos + 1\n",
        "\n",
        "print('Positive: ' + str(float(pos)/len(words)))\n",
        "print('Negative: ' + str(float(neg)/len(words)))"
      ]
    },
    {
      "cell_type": "markdown",
      "metadata": {
        "id": "_Jv2EudyBdjA"
      },
      "source": [
        "To enter the input sentence manually, use the input or raw_input functions.\n",
        "\n",
        "The better your training data is, the more accurate your predictions.\n",
        "\n",
        "In this example our training data is very small."
      ]
    },
    {
      "cell_type": "markdown",
      "metadata": {
        "id": "4fDm-t6nBdjA"
      },
      "source": [
        "A good dataset will increase the accuracy of your classifier."
      ]
    },
    {
      "cell_type": "markdown",
      "metadata": {
        "id": "yYlbs0fnBdjB"
      },
      "source": [
        "##### ref:https://pythonspot.com/category/nltk/"
      ]
    },
    {
      "cell_type": "code",
      "execution_count": null,
      "metadata": {
        "id": "fkBJAL9pBdjB"
      },
      "outputs": [],
      "source": []
    }
  ],
  "metadata": {
    "kernelspec": {
      "display_name": "Python 3",
      "language": "python",
      "name": "python3"
    },
    "language_info": {
      "codemirror_mode": {
        "name": "ipython",
        "version": 3
      },
      "file_extension": ".py",
      "mimetype": "text/x-python",
      "name": "python",
      "nbconvert_exporter": "python",
      "pygments_lexer": "ipython3",
      "version": "3.7.2"
    },
    "colab": {
      "provenance": [],
      "include_colab_link": true
    }
  },
  "nbformat": 4,
  "nbformat_minor": 0
}